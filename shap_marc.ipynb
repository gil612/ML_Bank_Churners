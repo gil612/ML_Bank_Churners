{
 "cells": [
  {
   "cell_type": "code",
   "execution_count": 1,
   "metadata": {},
   "outputs": [],
   "source": [
    "import pandas as pd\n",
    "import numpy as np\n",
    "import plotly.express as px\n",
    "import shap\n",
    "from sklearn.model_selection import train_test_split\n",
    "from sklearn.ensemble import RandomForestClassifier, GradientBoostingClassifier\n",
    "from sklearn.tree import DecisionTreeClassifier\n",
    "from sklearn.svm import SVC\n",
    "from sklearn.metrics import classification_report\n",
    "import matplotlib.pyplot as plt\n",
    "import lime\n",
    "import lime.lime_tabular"
   ]
  },
  {
   "cell_type": "code",
   "execution_count": 2,
   "metadata": {},
   "outputs": [],
   "source": [
    "# load data\n",
    "df = pd.read_csv('data/BankChurners.csv')#.sample(500)\n",
    "df.drop(df.columns[0], axis=1, inplace=True)\n",
    "df.drop(df.columns[-2:], axis=1, inplace=True)\n",
    "\n",
    "df.loc[df['Attrition_Flag'] == \"Existing Customer\",[\"Attrition_Flag\"]] = 0\n",
    "df.loc[df['Attrition_Flag'] == \"Attrited Customer\",[\"Attrition_Flag\"]] = 1\n",
    "\n",
    "df[[\"Attrition_Flag\"]] = df[[\"Attrition_Flag\"]].astype(int)"
   ]
  },
  {
   "cell_type": "code",
   "execution_count": 3,
   "metadata": {},
   "outputs": [],
   "source": [
    "np.random.seed(42)\n",
    "\n",
    "#find categorical variables\n",
    "categorical = [var for var in df.columns if df[var].dtype=='O']\n",
    "\n",
    "encoded = pd.get_dummies(df[categorical], prefix=categorical)\n",
    "df_enc = pd.concat([encoded, df], axis=1)\n",
    "df_enc.drop(categorical, axis=1, inplace=True)\n",
    "\n",
    "X = df_enc.drop([\"Attrition_Flag\"], axis=1)\n",
    "y = df_enc[\"Attrition_Flag\"]\n",
    "\n",
    "X_train, X_test, y_train, y_test = train_test_split(X, y, test_size=0.2)"
   ]
  },
  {
   "cell_type": "markdown",
   "metadata": {},
   "source": [
    "## Model Training"
   ]
  },
  {
   "cell_type": "code",
   "execution_count": 4,
   "metadata": {},
   "outputs": [
    {
     "name": "stderr",
     "output_type": "stream",
     "text": [
      "is_sparse is deprecated and will be removed in a future version. Check `isinstance(dtype, pd.SparseDtype)` instead.\n",
      "is_sparse is deprecated and will be removed in a future version. Check `isinstance(dtype, pd.SparseDtype)` instead.\n",
      "X has feature names, but RandomForestClassifier was fitted without feature names\n",
      "is_sparse is deprecated and will be removed in a future version. Check `isinstance(dtype, pd.SparseDtype)` instead.\n",
      "is_sparse is deprecated and will be removed in a future version. Check `isinstance(dtype, pd.SparseDtype)` instead.\n",
      "is_sparse is deprecated and will be removed in a future version. Check `isinstance(dtype, pd.SparseDtype)` instead.\n",
      "X has feature names, but DecisionTreeClassifier was fitted without feature names\n",
      "is_sparse is deprecated and will be removed in a future version. Check `isinstance(dtype, pd.SparseDtype)` instead.\n",
      "is_sparse is deprecated and will be removed in a future version. Check `isinstance(dtype, pd.SparseDtype)` instead.\n",
      "is_sparse is deprecated and will be removed in a future version. Check `isinstance(dtype, pd.SparseDtype)` instead.\n"
     ]
    },
    {
     "name": "stdout",
     "output_type": "stream",
     "text": [
      "Classification Report for RandomForest:\n",
      "\n",
      "              precision    recall  f1-score   support\n",
      "\n",
      "           0       0.95      0.99      0.97      1699\n",
      "           1       0.93      0.75      0.83       327\n",
      "\n",
      "    accuracy                           0.95      2026\n",
      "   macro avg       0.94      0.87      0.90      2026\n",
      "weighted avg       0.95      0.95      0.95      2026\n",
      "\n",
      "Classification Report for DecisionTree:\n",
      "\n",
      "              precision    recall  f1-score   support\n",
      "\n",
      "           0       0.96      0.96      0.96      1699\n",
      "           1       0.80      0.78      0.79       327\n",
      "\n",
      "    accuracy                           0.93      2026\n",
      "   macro avg       0.88      0.87      0.88      2026\n",
      "weighted avg       0.93      0.93      0.93      2026\n",
      "\n",
      "Classification Report for GradientBoosting:\n",
      "\n",
      "              precision    recall  f1-score   support\n",
      "\n",
      "           0       0.97      0.99      0.98      1699\n",
      "           1       0.93      0.85      0.89       327\n",
      "\n",
      "    accuracy                           0.97      2026\n",
      "   macro avg       0.95      0.92      0.93      2026\n",
      "weighted avg       0.96      0.97      0.96      2026\n",
      "\n"
     ]
    },
    {
     "name": "stderr",
     "output_type": "stream",
     "text": [
      "X has feature names, but GradientBoostingClassifier was fitted without feature names\n",
      "is_sparse is deprecated and will be removed in a future version. Check `isinstance(dtype, pd.SparseDtype)` instead.\n",
      "is_sparse is deprecated and will be removed in a future version. Check `isinstance(dtype, pd.SparseDtype)` instead.\n",
      "is_sparse is deprecated and will be removed in a future version. Check `isinstance(dtype, pd.SparseDtype)` instead.\n",
      "is_sparse is deprecated and will be removed in a future version. Check `isinstance(dtype, pd.SparseDtype)` instead.\n",
      "is_sparse is deprecated and will be removed in a future version. Check `isinstance(dtype, pd.SparseDtype)` instead.\n",
      "is_sparse is deprecated and will be removed in a future version. Check `isinstance(dtype, pd.SparseDtype)` instead.\n",
      "is_sparse is deprecated and will be removed in a future version. Check `isinstance(dtype, pd.SparseDtype)` instead.\n"
     ]
    }
   ],
   "source": [
    "def train_and_store_model(model, X_train, y_train, X_test):\n",
    "    model.fit(X_train.values, y_train)\n",
    "    y_pred = model.predict(X_test)\n",
    "    return {'model': model, 'predictions': y_pred}\n",
    "\n",
    "models = {\n",
    "    'RandomForest': RandomForestClassifier(),\n",
    "    'DecisionTree': DecisionTreeClassifier(),\n",
    "    'GradientBoosting': GradientBoostingClassifier(),\n",
    "}\n",
    "\n",
    "models_dict = {}\n",
    "\n",
    "for model_name, model in models.items():\n",
    "    models_dict[model_name] = train_and_store_model(model, X_train, y_train, X_test)\n",
    "\n",
    "# Print classification reports\n",
    "for model_name, model_info in models_dict.items():\n",
    "    print(f\"Classification Report for {model_name}:\\n\")\n",
    "    print(classification_report(y_test, model_info['predictions']))"
   ]
  },
  {
   "cell_type": "markdown",
   "metadata": {},
   "source": [
    "## Run SHAP"
   ]
  },
  {
   "cell_type": "code",
   "execution_count": 5,
   "metadata": {},
   "outputs": [
    {
     "data": {
      "text/html": [
       "<div>\n",
       "<style scoped>\n",
       "    .dataframe tbody tr th:only-of-type {\n",
       "        vertical-align: middle;\n",
       "    }\n",
       "\n",
       "    .dataframe tbody tr th {\n",
       "        vertical-align: top;\n",
       "    }\n",
       "\n",
       "    .dataframe thead th {\n",
       "        text-align: right;\n",
       "    }\n",
       "</style>\n",
       "<table border=\"1\" class=\"dataframe\">\n",
       "  <thead>\n",
       "    <tr style=\"text-align: right;\">\n",
       "      <th></th>\n",
       "      <th>RandomForest</th>\n",
       "      <th>DecisionTree</th>\n",
       "      <th>GradientBoosting</th>\n",
       "    </tr>\n",
       "  </thead>\n",
       "  <tbody>\n",
       "    <tr>\n",
       "      <th>Total_Trans_Ct</th>\n",
       "      <td>0.252380</td>\n",
       "      <td>0.355082</td>\n",
       "      <td>0.343321</td>\n",
       "    </tr>\n",
       "    <tr>\n",
       "      <th>Total_Revolving_Bal</th>\n",
       "      <td>0.145293</td>\n",
       "      <td>0.141205</td>\n",
       "      <td>0.128637</td>\n",
       "    </tr>\n",
       "    <tr>\n",
       "      <th>Total_Trans_Amt</th>\n",
       "      <td>0.127243</td>\n",
       "      <td>0.173111</td>\n",
       "      <td>0.211898</td>\n",
       "    </tr>\n",
       "    <tr>\n",
       "      <th>Total_Ct_Chng_Q4_Q1</th>\n",
       "      <td>0.095349</td>\n",
       "      <td>0.065044</td>\n",
       "      <td>0.069666</td>\n",
       "    </tr>\n",
       "    <tr>\n",
       "      <th>Total_Relationship_Count</th>\n",
       "      <td>0.087240</td>\n",
       "      <td>0.079089</td>\n",
       "      <td>0.057417</td>\n",
       "    </tr>\n",
       "    <tr>\n",
       "      <th>Avg_Utilization_Ratio</th>\n",
       "      <td>0.046004</td>\n",
       "      <td>0.024136</td>\n",
       "      <td>0.001858</td>\n",
       "    </tr>\n",
       "    <tr>\n",
       "      <th>Months_Inactive_12_mon</th>\n",
       "      <td>0.039551</td>\n",
       "      <td>0.010668</td>\n",
       "      <td>0.047181</td>\n",
       "    </tr>\n",
       "    <tr>\n",
       "      <th>Total_Amt_Chng_Q4_Q1</th>\n",
       "      <td>0.037168</td>\n",
       "      <td>0.033245</td>\n",
       "      <td>0.054462</td>\n",
       "    </tr>\n",
       "    <tr>\n",
       "      <th>Contacts_Count_12_mon</th>\n",
       "      <td>0.028271</td>\n",
       "      <td>0.011519</td>\n",
       "      <td>0.030789</td>\n",
       "    </tr>\n",
       "    <tr>\n",
       "      <th>Credit_Limit</th>\n",
       "      <td>0.018979</td>\n",
       "      <td>0.016780</td>\n",
       "      <td>0.005590</td>\n",
       "    </tr>\n",
       "  </tbody>\n",
       "</table>\n",
       "</div>"
      ],
      "text/plain": [
       "                          RandomForest  DecisionTree  GradientBoosting\n",
       "Total_Trans_Ct                0.252380      0.355082          0.343321\n",
       "Total_Revolving_Bal           0.145293      0.141205          0.128637\n",
       "Total_Trans_Amt               0.127243      0.173111          0.211898\n",
       "Total_Ct_Chng_Q4_Q1           0.095349      0.065044          0.069666\n",
       "Total_Relationship_Count      0.087240      0.079089          0.057417\n",
       "Avg_Utilization_Ratio         0.046004      0.024136          0.001858\n",
       "Months_Inactive_12_mon        0.039551      0.010668          0.047181\n",
       "Total_Amt_Chng_Q4_Q1          0.037168      0.033245          0.054462\n",
       "Contacts_Count_12_mon         0.028271      0.011519          0.030789\n",
       "Credit_Limit                  0.018979      0.016780          0.005590"
      ]
     },
     "execution_count": 5,
     "metadata": {},
     "output_type": "execute_result"
    }
   ],
   "source": [
    "shap_values_dict = {}\n",
    "\n",
    "# Calculate SHAP values for each model\n",
    "for model_name, model_info in models_dict.items():\n",
    "    model = model_info['model']\n",
    "    explainer = shap.TreeExplainer(model)\n",
    "    shap_values = explainer.shap_values(X_test)\n",
    "\n",
    "    # Reshape SHAP values\n",
    "    if isinstance(shap_values, list):\n",
    "        shap_values = shap_values[0]\n",
    "\n",
    "    shap_values_dict[model_name] = shap_values\n",
    "\n",
    "# create a df with the shap values' means\n",
    "shap_mean_df = pd.DataFrame()\n",
    "\n",
    "for model_name, shap_values in shap_values_dict.items():\n",
    "    shap_mean_df[model_name] = np.abs(shap_values).mean(axis=0)\n",
    "    #normalize\n",
    "    shap_mean_df[model_name] = shap_mean_df[model_name] / shap_mean_df[model_name].sum()\n",
    "\n",
    "shap_mean_df.index = X_test.columns\n",
    "#sort by sum\n",
    "shap_mean_df = shap_mean_df.sort_values(by=list(shap_mean_df.columns), ascending=False)\n",
    "shap_mean_df.head(10)"
   ]
  },
  {
   "cell_type": "code",
   "execution_count": 7,
   "metadata": {},
   "outputs": [],
   "source": [
    "# # Plot the feature dependences\n",
    "# for model, shap_values in shap_values_dict.items():\n",
    "#     # Create dependence plots for each feature\n",
    "#     for feature_name in X_test.columns:\n",
    "#         shap.dependence_plot(feature_name, shap_values, X_test, feature_names=X_test.columns,\n",
    "#                              interaction_index='auto', show=False)\n",
    "#         plt.title(f'SHAP Dependence Plot - {model_name} - {feature_name}')\n",
    "#         plt.show()"
   ]
  },
  {
   "cell_type": "markdown",
   "metadata": {},
   "source": [
    "## Run LIME"
   ]
  },
  {
   "cell_type": "code",
   "execution_count": 8,
   "metadata": {},
   "outputs": [],
   "source": [
    "# Create LIME explainer\n",
    "explainer = lime.lime_tabular.LimeTabularExplainer(X_train.values, feature_names=X_train.columns)\n",
    "\n",
    "# Perform LIME on each model\n",
    "lime_results_dict = {}\n",
    "\n",
    "for model_name, model_info in models_dict.items():\n",
    "    model = model_info['model']\n",
    "    lime_results = []\n",
    "\n",
    "    # Iterate over X_test instances\n",
    "    for instance in X_test.values:\n",
    "        explanation = explainer.explain_instance(instance, model.predict_proba, num_features=len(X_test.columns))\n",
    "        lime_results.append(explanation.as_list())\n",
    "\n",
    "    lime_results_dict[model_name] = lime_results\n",
    "\n",
    "# Average the LIME results\n",
    "average_lime_results = {}\n",
    "\n",
    "for model_name, lime_results in lime_results_dict.items():\n",
    "    average_weights = {}\n",
    "    for lime_result in lime_results:\n",
    "        for feature, weight in lime_result:\n",
    "            average_weights.setdefault(feature, []).append(weight)\n",
    "\n",
    "    average_lime_results[model_name] = [(feature, np.mean(weights)) for feature, weights in average_weights.items()]\n"
   ]
  },
  {
   "cell_type": "code",
   "execution_count": 9,
   "metadata": {},
   "outputs": [
    {
     "data": {
      "text/html": [
       "<div>\n",
       "<style scoped>\n",
       "    .dataframe tbody tr th:only-of-type {\n",
       "        vertical-align: middle;\n",
       "    }\n",
       "\n",
       "    .dataframe tbody tr th {\n",
       "        vertical-align: top;\n",
       "    }\n",
       "\n",
       "    .dataframe thead th {\n",
       "        text-align: right;\n",
       "    }\n",
       "</style>\n",
       "<table border=\"1\" class=\"dataframe\">\n",
       "  <thead>\n",
       "    <tr style=\"text-align: right;\">\n",
       "      <th></th>\n",
       "      <th>RandomForest</th>\n",
       "      <th>DecisionTree</th>\n",
       "      <th>GradientBoosting</th>\n",
       "    </tr>\n",
       "  </thead>\n",
       "  <tbody>\n",
       "    <tr>\n",
       "      <th>Total_Trans_Ct &gt; 81.00</th>\n",
       "      <td>2.085390</td>\n",
       "      <td>44.232385</td>\n",
       "      <td>2.184697</td>\n",
       "    </tr>\n",
       "    <tr>\n",
       "      <th>67.00 &lt; Total_Trans_Ct &lt;= 81.00</th>\n",
       "      <td>1.658041</td>\n",
       "      <td>28.517763</td>\n",
       "      <td>1.219197</td>\n",
       "    </tr>\n",
       "    <tr>\n",
       "      <th>Card_Category_Platinum &lt;= 0.00</th>\n",
       "      <td>0.856045</td>\n",
       "      <td>48.933208</td>\n",
       "      <td>0.310428</td>\n",
       "    </tr>\n",
       "    <tr>\n",
       "      <th>4.00 &lt; Total_Relationship_Count &lt;= 5.00</th>\n",
       "      <td>0.854747</td>\n",
       "      <td>1.451800</td>\n",
       "      <td>0.309436</td>\n",
       "    </tr>\n",
       "    <tr>\n",
       "      <th>Total_Relationship_Count &gt; 5.00</th>\n",
       "      <td>0.632134</td>\n",
       "      <td>4.657491</td>\n",
       "      <td>0.312915</td>\n",
       "    </tr>\n",
       "    <tr>\n",
       "      <th>...</th>\n",
       "      <td>...</td>\n",
       "      <td>...</td>\n",
       "      <td>...</td>\n",
       "    </tr>\n",
       "    <tr>\n",
       "      <th>Total_Relationship_Count &lt;= 3.00</th>\n",
       "      <td>-1.036007</td>\n",
       "      <td>-9.596153</td>\n",
       "      <td>-0.577343</td>\n",
       "    </tr>\n",
       "    <tr>\n",
       "      <th>Total_Trans_Amt &lt;= 2160.00</th>\n",
       "      <td>-1.153148</td>\n",
       "      <td>21.003098</td>\n",
       "      <td>1.461701</td>\n",
       "    </tr>\n",
       "    <tr>\n",
       "      <th>Total_Trans_Amt &gt; 4739.00</th>\n",
       "      <td>-1.256607</td>\n",
       "      <td>-36.336932</td>\n",
       "      <td>-2.620934</td>\n",
       "    </tr>\n",
       "    <tr>\n",
       "      <th>Total_Revolving_Bal &lt;= 326.00</th>\n",
       "      <td>-1.993379</td>\n",
       "      <td>-16.366899</td>\n",
       "      <td>-1.090073</td>\n",
       "    </tr>\n",
       "    <tr>\n",
       "      <th>Total_Trans_Ct &lt;= 45.00</th>\n",
       "      <td>-2.914885</td>\n",
       "      <td>-57.076699</td>\n",
       "      <td>-2.804472</td>\n",
       "    </tr>\n",
       "  </tbody>\n",
       "</table>\n",
       "<p>99 rows × 3 columns</p>\n",
       "</div>"
      ],
      "text/plain": [
       "                                         RandomForest  DecisionTree  \\\n",
       "Total_Trans_Ct > 81.00                       2.085390     44.232385   \n",
       "67.00 < Total_Trans_Ct <= 81.00              1.658041     28.517763   \n",
       "Card_Category_Platinum <= 0.00               0.856045     48.933208   \n",
       "4.00 < Total_Relationship_Count <= 5.00      0.854747      1.451800   \n",
       "Total_Relationship_Count > 5.00              0.632134      4.657491   \n",
       "...                                               ...           ...   \n",
       "Total_Relationship_Count <= 3.00            -1.036007     -9.596153   \n",
       "Total_Trans_Amt <= 2160.00                  -1.153148     21.003098   \n",
       "Total_Trans_Amt > 4739.00                   -1.256607    -36.336932   \n",
       "Total_Revolving_Bal <= 326.00               -1.993379    -16.366899   \n",
       "Total_Trans_Ct <= 45.00                     -2.914885    -57.076699   \n",
       "\n",
       "                                         GradientBoosting  \n",
       "Total_Trans_Ct > 81.00                           2.184697  \n",
       "67.00 < Total_Trans_Ct <= 81.00                  1.219197  \n",
       "Card_Category_Platinum <= 0.00                   0.310428  \n",
       "4.00 < Total_Relationship_Count <= 5.00          0.309436  \n",
       "Total_Relationship_Count > 5.00                  0.312915  \n",
       "...                                                   ...  \n",
       "Total_Relationship_Count <= 3.00                -0.577343  \n",
       "Total_Trans_Amt <= 2160.00                       1.461701  \n",
       "Total_Trans_Amt > 4739.00                       -2.620934  \n",
       "Total_Revolving_Bal <= 326.00                   -1.090073  \n",
       "Total_Trans_Ct <= 45.00                         -2.804472  \n",
       "\n",
       "[99 rows x 3 columns]"
      ]
     },
     "execution_count": 9,
     "metadata": {},
     "output_type": "execute_result"
    }
   ],
   "source": [
    "# Create a df with the LIME values' means\n",
    "lime_mean_df = pd.DataFrame()\n",
    "\n",
    "for model_name, lime_results in average_lime_results.items():\n",
    "    lime_mean_df[model_name] = [weight for feature, weight in lime_results]\n",
    "    # Normalize\n",
    "    lime_mean_df[model_name] = lime_mean_df[model_name] / lime_mean_df[model_name].sum()\n",
    "\n",
    "lime_mean_df.index = [feature for feature, weight in lime_results]\n",
    "\n",
    "lime_mean_df = lime_mean_df.sort_values(by=list(lime_mean_df.columns), ascending=False)\n",
    "lime_mean_df"
   ]
  },
  {
   "cell_type": "code",
   "execution_count": 10,
   "metadata": {},
   "outputs": [
    {
     "data": {
      "text/html": [
       "<div>\n",
       "<style scoped>\n",
       "    .dataframe tbody tr th:only-of-type {\n",
       "        vertical-align: middle;\n",
       "    }\n",
       "\n",
       "    .dataframe tbody tr th {\n",
       "        vertical-align: top;\n",
       "    }\n",
       "\n",
       "    .dataframe thead th {\n",
       "        text-align: right;\n",
       "    }\n",
       "</style>\n",
       "<table border=\"1\" class=\"dataframe\">\n",
       "  <thead>\n",
       "    <tr style=\"text-align: right;\">\n",
       "      <th></th>\n",
       "      <th>RandomForest</th>\n",
       "      <th>DecisionTree</th>\n",
       "      <th>GradientBoosting</th>\n",
       "    </tr>\n",
       "  </thead>\n",
       "  <tbody>\n",
       "    <tr>\n",
       "      <th>Avg_Open_To_Buy</th>\n",
       "      <td>0.009522</td>\n",
       "      <td>0.006667</td>\n",
       "      <td>0.003441</td>\n",
       "    </tr>\n",
       "    <tr>\n",
       "      <th>Avg_Utilization_Ratio</th>\n",
       "      <td>0.012838</td>\n",
       "      <td>0.002583</td>\n",
       "      <td>0.001659</td>\n",
       "    </tr>\n",
       "    <tr>\n",
       "      <th>Card_Category_Blue</th>\n",
       "      <td>0.000000</td>\n",
       "      <td>0.000000</td>\n",
       "      <td>0.000000</td>\n",
       "    </tr>\n",
       "    <tr>\n",
       "      <th>Card_Category_Gold</th>\n",
       "      <td>0.003046</td>\n",
       "      <td>0.000616</td>\n",
       "      <td>0.003826</td>\n",
       "    </tr>\n",
       "    <tr>\n",
       "      <th>Card_Category_Platinum</th>\n",
       "      <td>0.042927</td>\n",
       "      <td>0.200070</td>\n",
       "      <td>0.026449</td>\n",
       "    </tr>\n",
       "    <tr>\n",
       "      <th>Card_Category_Silver</th>\n",
       "      <td>0.003379</td>\n",
       "      <td>0.001915</td>\n",
       "      <td>0.001599</td>\n",
       "    </tr>\n",
       "    <tr>\n",
       "      <th>Contacts_Count_12_mon</th>\n",
       "      <td>0.012411</td>\n",
       "      <td>0.006760</td>\n",
       "      <td>0.018745</td>\n",
       "    </tr>\n",
       "    <tr>\n",
       "      <th>Credit_Limit</th>\n",
       "      <td>0.009829</td>\n",
       "      <td>0.005919</td>\n",
       "      <td>0.002769</td>\n",
       "    </tr>\n",
       "    <tr>\n",
       "      <th>Customer_Age</th>\n",
       "      <td>0.004495</td>\n",
       "      <td>0.004027</td>\n",
       "      <td>0.005795</td>\n",
       "    </tr>\n",
       "    <tr>\n",
       "      <th>Dependent_count</th>\n",
       "      <td>0.008588</td>\n",
       "      <td>0.007446</td>\n",
       "      <td>0.000878</td>\n",
       "    </tr>\n",
       "  </tbody>\n",
       "</table>\n",
       "</div>"
      ],
      "text/plain": [
       "                        RandomForest  DecisionTree  GradientBoosting\n",
       "Avg_Open_To_Buy             0.009522      0.006667          0.003441\n",
       "Avg_Utilization_Ratio       0.012838      0.002583          0.001659\n",
       "Card_Category_Blue          0.000000      0.000000          0.000000\n",
       "Card_Category_Gold          0.003046      0.000616          0.003826\n",
       "Card_Category_Platinum      0.042927      0.200070          0.026449\n",
       "Card_Category_Silver        0.003379      0.001915          0.001599\n",
       "Contacts_Count_12_mon       0.012411      0.006760          0.018745\n",
       "Credit_Limit                0.009829      0.005919          0.002769\n",
       "Customer_Age                0.004495      0.004027          0.005795\n",
       "Dependent_count             0.008588      0.007446          0.000878"
      ]
     },
     "execution_count": 10,
     "metadata": {},
     "output_type": "execute_result"
    }
   ],
   "source": [
    "# Create a dictionary to map indices to feature names\n",
    "index_to_feature = {}\n",
    "for index in lime_mean_df.index:\n",
    "    for feature_name in X_test.columns:\n",
    "        if feature_name in str(index):\n",
    "            index_to_feature[index] = feature_name\n",
    "\n",
    "# Update the indices in lime_mean_df\n",
    "lime_mean_df.index = lime_mean_df.index.map(lambda x: index_to_feature.get(x, x))\n",
    "\n",
    "# Take absolute values, merge and normalize them\n",
    "lime_mean_df = lime_mean_df.abs()\n",
    "lime_mean_df = lime_mean_df.groupby(lime_mean_df.index).sum()\n",
    "lime_mean_df = lime_mean_df / lime_mean_df.sum()\n",
    "\n",
    "lime_mean_df.head(10)"
   ]
  },
  {
   "cell_type": "markdown",
   "metadata": {},
   "source": [
    "## Merge SHAP and LIME results"
   ]
  },
  {
   "cell_type": "code",
   "execution_count": 11,
   "metadata": {},
   "outputs": [
    {
     "data": {
      "text/html": [
       "<div>\n",
       "<style scoped>\n",
       "    .dataframe tbody tr th:only-of-type {\n",
       "        vertical-align: middle;\n",
       "    }\n",
       "\n",
       "    .dataframe tbody tr th {\n",
       "        vertical-align: top;\n",
       "    }\n",
       "\n",
       "    .dataframe thead th {\n",
       "        text-align: right;\n",
       "    }\n",
       "</style>\n",
       "<table border=\"1\" class=\"dataframe\">\n",
       "  <thead>\n",
       "    <tr style=\"text-align: right;\">\n",
       "      <th></th>\n",
       "      <th>index</th>\n",
       "      <th>method</th>\n",
       "      <th>model</th>\n",
       "      <th>value</th>\n",
       "    </tr>\n",
       "  </thead>\n",
       "  <tbody>\n",
       "    <tr>\n",
       "      <th>0</th>\n",
       "      <td>Total_Trans_Ct</td>\n",
       "      <td>SHAP</td>\n",
       "      <td>RandomForest</td>\n",
       "      <td>0.252380</td>\n",
       "    </tr>\n",
       "    <tr>\n",
       "      <th>1</th>\n",
       "      <td>Total_Revolving_Bal</td>\n",
       "      <td>SHAP</td>\n",
       "      <td>RandomForest</td>\n",
       "      <td>0.145293</td>\n",
       "    </tr>\n",
       "    <tr>\n",
       "      <th>2</th>\n",
       "      <td>Total_Trans_Amt</td>\n",
       "      <td>SHAP</td>\n",
       "      <td>RandomForest</td>\n",
       "      <td>0.127243</td>\n",
       "    </tr>\n",
       "    <tr>\n",
       "      <th>3</th>\n",
       "      <td>Total_Ct_Chng_Q4_Q1</td>\n",
       "      <td>SHAP</td>\n",
       "      <td>RandomForest</td>\n",
       "      <td>0.095349</td>\n",
       "    </tr>\n",
       "    <tr>\n",
       "      <th>4</th>\n",
       "      <td>Total_Relationship_Count</td>\n",
       "      <td>SHAP</td>\n",
       "      <td>RandomForest</td>\n",
       "      <td>0.087240</td>\n",
       "    </tr>\n",
       "    <tr>\n",
       "      <th>...</th>\n",
       "      <td>...</td>\n",
       "      <td>...</td>\n",
       "      <td>...</td>\n",
       "      <td>...</td>\n",
       "    </tr>\n",
       "    <tr>\n",
       "      <th>217</th>\n",
       "      <td>Total_Ct_Chng_Q4_Q1</td>\n",
       "      <td>LIME</td>\n",
       "      <td>GradientBoosting</td>\n",
       "      <td>0.059222</td>\n",
       "    </tr>\n",
       "    <tr>\n",
       "      <th>218</th>\n",
       "      <td>Total_Relationship_Count</td>\n",
       "      <td>LIME</td>\n",
       "      <td>GradientBoosting</td>\n",
       "      <td>0.076696</td>\n",
       "    </tr>\n",
       "    <tr>\n",
       "      <th>219</th>\n",
       "      <td>Total_Revolving_Bal</td>\n",
       "      <td>LIME</td>\n",
       "      <td>GradientBoosting</td>\n",
       "      <td>0.110467</td>\n",
       "    </tr>\n",
       "    <tr>\n",
       "      <th>220</th>\n",
       "      <td>Total_Trans_Amt</td>\n",
       "      <td>LIME</td>\n",
       "      <td>GradientBoosting</td>\n",
       "      <td>0.267335</td>\n",
       "    </tr>\n",
       "    <tr>\n",
       "      <th>221</th>\n",
       "      <td>Total_Trans_Ct</td>\n",
       "      <td>LIME</td>\n",
       "      <td>GradientBoosting</td>\n",
       "      <td>0.339218</td>\n",
       "    </tr>\n",
       "  </tbody>\n",
       "</table>\n",
       "<p>222 rows × 4 columns</p>\n",
       "</div>"
      ],
      "text/plain": [
       "                        index method             model     value\n",
       "0              Total_Trans_Ct   SHAP      RandomForest  0.252380\n",
       "1         Total_Revolving_Bal   SHAP      RandomForest  0.145293\n",
       "2             Total_Trans_Amt   SHAP      RandomForest  0.127243\n",
       "3         Total_Ct_Chng_Q4_Q1   SHAP      RandomForest  0.095349\n",
       "4    Total_Relationship_Count   SHAP      RandomForest  0.087240\n",
       "..                        ...    ...               ...       ...\n",
       "217       Total_Ct_Chng_Q4_Q1   LIME  GradientBoosting  0.059222\n",
       "218  Total_Relationship_Count   LIME  GradientBoosting  0.076696\n",
       "219       Total_Revolving_Bal   LIME  GradientBoosting  0.110467\n",
       "220           Total_Trans_Amt   LIME  GradientBoosting  0.267335\n",
       "221            Total_Trans_Ct   LIME  GradientBoosting  0.339218\n",
       "\n",
       "[222 rows x 4 columns]"
      ]
     },
     "execution_count": 11,
     "metadata": {},
     "output_type": "execute_result"
    }
   ],
   "source": [
    "# Merge shap_mean_df and lime_mean_df\n",
    "shap_lime_df = pd.concat([shap_mean_df.assign(method='SHAP'), lime_mean_df.assign(method='LIME')], axis=0).reset_index()\n",
    "\n",
    "# Melt the dataframe for visualization\n",
    "shap_lime_df = shap_lime_df.melt(id_vars=['index', 'method'], var_name='model', value_name='value')\n",
    "\n",
    "shap_lime_df"
   ]
  },
  {
   "cell_type": "code",
   "execution_count": 12,
   "metadata": {},
   "outputs": [
    {
     "data": {
      "application/vnd.plotly.v1+json": {
       "config": {
        "plotlyServerURL": "https://plot.ly"
       },
       "data": [
        {
         "alignmentgroup": "True",
         "hovertemplate": "model=DecisionTree<br>method=SHAP<br>value=%{x}<br>index=%{y}<extra></extra>",
         "legendgroup": "DecisionTree",
         "marker": {
          "color": "#636efa",
          "pattern": {
           "shape": ""
          }
         },
         "name": "DecisionTree",
         "offsetgroup": "DecisionTree",
         "orientation": "h",
         "showlegend": true,
         "textposition": "auto",
         "type": "bar",
         "x": [
          0,
          0,
          0,
          0,
          0,
          0.00039142518255103276,
          0.00046683349405557005,
          0.0006693035420104405,
          0.0007071040825105447,
          0.0008593175380669739,
          0.0008968755049469601,
          0.001139178780721039,
          0.0011618594194393922,
          0.0012000166338824374,
          0.0014253639062371754,
          0.0016826815186247706,
          0.0017262346541902739,
          0.0019408931567654858,
          0.0019538357046229933,
          0.0032297055289440624,
          0.003784460580449323,
          0.0037942226155130523,
          0.00494043951248067,
          0.0053402275837120365,
          0.010199115244898962,
          0.010667838672750039,
          0.011390727691933835,
          0.011519356744027143,
          0.01677990684695368,
          0.02413623442724761,
          0.031221427987577197,
          0.03324472943606788,
          0.06504380530557556,
          0.07908882722000328,
          0.14120518969338075,
          0.17311129308203044,
          0.3550815687078295
         ],
         "xaxis": "x",
         "y": [
          "Card_Category_Gold",
          "Card_Category_Silver",
          "Education_Level_Uneducated",
          "Education_Level_High School",
          "Income_Category_Less than $40K",
          "Gender_M",
          "Card_Category_Blue",
          "Income_Category_$40K - $60K",
          "Income_Category_$120K +",
          "Marital_Status_Single",
          "Education_Level_Post-Graduate",
          "Income_Category_$80K - $120K",
          "Education_Level_Unknown",
          "Marital_Status_Unknown",
          "Income_Category_$60K - $80K",
          "Card_Category_Platinum",
          "Income_Category_Unknown",
          "Education_Level_College",
          "Education_Level_Doctorate",
          "Marital_Status_Divorced",
          "Education_Level_Graduate",
          "Dependent_count",
          "Marital_Status_Married",
          "Gender_F",
          "Avg_Open_To_Buy",
          "Months_Inactive_12_mon",
          "Months_on_book",
          "Contacts_Count_12_mon",
          "Credit_Limit",
          "Avg_Utilization_Ratio",
          "Customer_Age",
          "Total_Amt_Chng_Q4_Q1",
          "Total_Ct_Chng_Q4_Q1",
          "Total_Relationship_Count",
          "Total_Revolving_Bal",
          "Total_Trans_Amt",
          "Total_Trans_Ct"
         ],
         "yaxis": "y"
        },
        {
         "alignmentgroup": "True",
         "hovertemplate": "model=DecisionTree<br>method=LIME<br>value=%{x}<br>index=%{y}<extra></extra>",
         "legendgroup": "DecisionTree",
         "marker": {
          "color": "#636efa",
          "pattern": {
           "shape": ""
          }
         },
         "name": "DecisionTree",
         "offsetgroup": "DecisionTree",
         "orientation": "h",
         "showlegend": false,
         "textposition": "auto",
         "type": "bar",
         "x": [
          0,
          0.000615699086906721,
          0.0006994418841010491,
          0.0008067411802948855,
          0.0017668082021715574,
          0.0019146474637261046,
          0.0025825715149886425,
          0.0032563515995411244,
          0.003266368911971631,
          0.0032933112302937343,
          0.003810336082514852,
          0.004027000567110856,
          0.00437258946555234,
          0.004734797472030966,
          0.0048531140600904,
          0.0050814141329411245,
          0.005145152062204525,
          0.005918543086627029,
          0.006153320042087385,
          0.0062775422916877995,
          0.006414785785233105,
          0.006666953879959974,
          0.00676040186934472,
          0.006829018312210007,
          0.007446130981661144,
          0.00767343057105488,
          0.008946081234612657,
          0.010756299759655358,
          0.013397547757617506,
          0.02093618815231818,
          0.031681864231193006,
          0.03212614762301168,
          0.051011192766711295,
          0.08464924159768931,
          0.16480509336978483,
          0.20006998631250156,
          0.2712538854585981
         ],
         "xaxis": "x2",
         "y": [
          "Card_Category_Blue",
          "Card_Category_Gold",
          "Education_Level_College",
          "Education_Level_Graduate",
          "Income_Category_$80K - $120K",
          "Card_Category_Silver",
          "Avg_Utilization_Ratio",
          "Education_Level_Unknown",
          "Education_Level_Post-Graduate",
          "Income_Category_$120K +",
          "Income_Category_Unknown",
          "Customer_Age",
          "Marital_Status_Single",
          "Income_Category_$60K - $80K",
          "Education_Level_Doctorate",
          "Marital_Status_Unknown",
          "Marital_Status_Married",
          "Credit_Limit",
          "Income_Category_Less than $40K",
          "Education_Level_High School",
          "Marital_Status_Divorced",
          "Avg_Open_To_Buy",
          "Contacts_Count_12_mon",
          "Gender_F",
          "Dependent_count",
          "Gender_M",
          "Income_Category_$40K - $60K",
          "Months_on_book",
          "Education_Level_Uneducated",
          "Months_Inactive_12_mon",
          "Total_Amt_Chng_Q4_Q1",
          "Total_Ct_Chng_Q4_Q1",
          "Total_Relationship_Count",
          "Total_Revolving_Bal",
          "Total_Trans_Amt",
          "Card_Category_Platinum",
          "Total_Trans_Ct"
         ],
         "yaxis": "y2"
        },
        {
         "alignmentgroup": "True",
         "hovertemplate": "model=GradientBoosting<br>method=SHAP<br>value=%{x}<br>index=%{y}<extra></extra>",
         "legendgroup": "GradientBoosting",
         "marker": {
          "color": "#EF553B",
          "pattern": {
           "shape": ""
          }
         },
         "name": "GradientBoosting",
         "offsetgroup": "GradientBoosting",
         "orientation": "h",
         "showlegend": true,
         "textposition": "auto",
         "type": "bar",
         "x": [
          0,
          0,
          0,
          0,
          0,
          0,
          0,
          0,
          0,
          0,
          0,
          0,
          0,
          0.0000028638520955042554,
          0.00002110555416495219,
          0.000021555196861348447,
          0.000029039685848872623,
          0.00003335489277131729,
          0.00005019040309939102,
          0.000054108021376953956,
          0.0004640400252621828,
          0.0018581303590013446,
          0.003212732795905673,
          0.0035320429135020388,
          0.005590029145067245,
          0.007431957374309748,
          0.008038521232796143,
          0.008267794270391416,
          0.01802146582339908,
          0.03078912962832287,
          0.047180769157568,
          0.0544620692228394,
          0.05741742709122865,
          0.06966620683171235,
          0.12863701529474064,
          0.211897689728153,
          0.3433207614995819
         ],
         "xaxis": "x",
         "y": [
          "Card_Category_Gold",
          "Education_Level_College",
          "Card_Category_Blue",
          "Education_Level_Uneducated",
          "Income_Category_$40K - $60K",
          "Education_Level_High School",
          "Marital_Status_Unknown",
          "Income_Category_Unknown",
          "Education_Level_Unknown",
          "Education_Level_Doctorate",
          "Income_Category_$80K - $120K",
          "Card_Category_Silver",
          "Income_Category_$60K - $80K",
          "Income_Category_$120K +",
          "Education_Level_Graduate",
          "Education_Level_Post-Graduate",
          "Marital_Status_Divorced",
          "Dependent_count",
          "Income_Category_Less than $40K",
          "Marital_Status_Single",
          "Card_Category_Platinum",
          "Avg_Utilization_Ratio",
          "Months_on_book",
          "Marital_Status_Married",
          "Credit_Limit",
          "Gender_M",
          "Gender_F",
          "Avg_Open_To_Buy",
          "Customer_Age",
          "Contacts_Count_12_mon",
          "Months_Inactive_12_mon",
          "Total_Amt_Chng_Q4_Q1",
          "Total_Relationship_Count",
          "Total_Ct_Chng_Q4_Q1",
          "Total_Revolving_Bal",
          "Total_Trans_Amt",
          "Total_Trans_Ct"
         ],
         "yaxis": "y"
        },
        {
         "alignmentgroup": "True",
         "hovertemplate": "model=GradientBoosting<br>method=LIME<br>value=%{x}<br>index=%{y}<extra></extra>",
         "legendgroup": "GradientBoosting",
         "marker": {
          "color": "#EF553B",
          "pattern": {
           "shape": ""
          }
         },
         "name": "GradientBoosting",
         "offsetgroup": "GradientBoosting",
         "orientation": "h",
         "showlegend": false,
         "textposition": "auto",
         "type": "bar",
         "x": [
          0,
          0.00002525918335944111,
          0.00010452811970488947,
          0.00017357839667350692,
          0.00019427729982243372,
          0.00022626511986597402,
          0.0002657943082961645,
          0.0002844729348567535,
          0.00030462181345948476,
          0.00034752501819700814,
          0.0003517921317331971,
          0.000371166451155497,
          0.00037943635242634465,
          0.00041834757861894064,
          0.0005381266287680519,
          0.000735782226741042,
          0.0008780461184078497,
          0.0012328503432359806,
          0.001598515620349607,
          0.0016592985396601055,
          0.0020885492916653393,
          0.002417378842028288,
          0.0027561680747309326,
          0.0027686373848136133,
          0.0034413090827605966,
          0.003825726123902874,
          0.0038579960587281485,
          0.005794591048103559,
          0.01840015602483357,
          0.018744796657023895,
          0.0264493398068667,
          0.046427833177394434,
          0.05922231060383967,
          0.0766958884210058,
          0.11046662962908471,
          0.2673345435109609,
          0.33921846207692463
         ],
         "xaxis": "x2",
         "y": [
          "Card_Category_Blue",
          "Marital_Status_Single",
          "Education_Level_College",
          "Income_Category_Less than $40K",
          "Income_Category_$80K - $120K",
          "Education_Level_High School",
          "Education_Level_Uneducated",
          "Marital_Status_Unknown",
          "Education_Level_Graduate",
          "Income_Category_$40K - $60K",
          "Education_Level_Unknown",
          "Months_on_book",
          "Income_Category_$120K +",
          "Income_Category_Unknown",
          "Income_Category_$60K - $80K",
          "Education_Level_Post-Graduate",
          "Dependent_count",
          "Marital_Status_Divorced",
          "Card_Category_Silver",
          "Avg_Utilization_Ratio",
          "Education_Level_Doctorate",
          "Marital_Status_Married",
          "Gender_M",
          "Credit_Limit",
          "Avg_Open_To_Buy",
          "Card_Category_Gold",
          "Gender_F",
          "Customer_Age",
          "Total_Amt_Chng_Q4_Q1",
          "Contacts_Count_12_mon",
          "Card_Category_Platinum",
          "Months_Inactive_12_mon",
          "Total_Ct_Chng_Q4_Q1",
          "Total_Relationship_Count",
          "Total_Revolving_Bal",
          "Total_Trans_Amt",
          "Total_Trans_Ct"
         ],
         "yaxis": "y2"
        },
        {
         "alignmentgroup": "True",
         "hovertemplate": "model=RandomForest<br>method=SHAP<br>value=%{x}<br>index=%{y}<extra></extra>",
         "legendgroup": "RandomForest",
         "marker": {
          "color": "#00cc96",
          "pattern": {
           "shape": ""
          }
         },
         "name": "RandomForest",
         "offsetgroup": "RandomForest",
         "orientation": "h",
         "showlegend": true,
         "textposition": "auto",
         "type": "bar",
         "x": [
          0.0003298971880616474,
          0.0008069461798172933,
          0.0008467081760075151,
          0.0010291092316070413,
          0.0010713703584853058,
          0.0012448657281246961,
          0.0013440864070401798,
          0.0014103366194555646,
          0.001454129871866816,
          0.0015619979928410124,
          0.0016078881463986075,
          0.0016345689585238405,
          0.0018260942889639744,
          0.0021946958117507556,
          0.0024907026881728156,
          0.0025291947953685794,
          0.002548364140047861,
          0.0027327096417234208,
          0.003895099044081094,
          0.00531363726665432,
          0.006258039372216302,
          0.0071854767843729265,
          0.008188870232741759,
          0.0142296417157625,
          0.014902476169248759,
          0.016740122501755134,
          0.017145036869838825,
          0.018978902259922496,
          0.028270521741874364,
          0.03716760083637638,
          0.039550926824284884,
          0.04600377849200439,
          0.0872399645718407,
          0.0953494006820334,
          0.12724330237432344,
          0.14529346964048329,
          0.25238006639592814
         ],
         "xaxis": "x",
         "y": [
          "Card_Category_Platinum",
          "Card_Category_Silver",
          "Marital_Status_Unknown",
          "Card_Category_Gold",
          "Income_Category_$120K +",
          "Education_Level_College",
          "Income_Category_$60K - $80K",
          "Card_Category_Blue",
          "Education_Level_Uneducated",
          "Marital_Status_Divorced",
          "Income_Category_$40K - $60K",
          "Education_Level_High School",
          "Education_Level_Post-Graduate",
          "Income_Category_Unknown",
          "Education_Level_Graduate",
          "Income_Category_$80K - $120K",
          "Education_Level_Unknown",
          "Education_Level_Doctorate",
          "Income_Category_Less than $40K",
          "Marital_Status_Single",
          "Marital_Status_Married",
          "Dependent_count",
          "Months_on_book",
          "Gender_F",
          "Gender_M",
          "Avg_Open_To_Buy",
          "Customer_Age",
          "Credit_Limit",
          "Contacts_Count_12_mon",
          "Total_Amt_Chng_Q4_Q1",
          "Months_Inactive_12_mon",
          "Avg_Utilization_Ratio",
          "Total_Relationship_Count",
          "Total_Ct_Chng_Q4_Q1",
          "Total_Trans_Amt",
          "Total_Revolving_Bal",
          "Total_Trans_Ct"
         ],
         "yaxis": "y"
        },
        {
         "alignmentgroup": "True",
         "hovertemplate": "model=RandomForest<br>method=LIME<br>value=%{x}<br>index=%{y}<extra></extra>",
         "legendgroup": "RandomForest",
         "marker": {
          "color": "#00cc96",
          "pattern": {
           "shape": ""
          }
         },
         "name": "RandomForest",
         "offsetgroup": "RandomForest",
         "orientation": "h",
         "showlegend": false,
         "textposition": "auto",
         "type": "bar",
         "x": [
          0,
          0.0005682872064491502,
          0.0010037841232032013,
          0.0012699125774056131,
          0.0018403305801775152,
          0.0019418773425864337,
          0.0020823370500182375,
          0.0021079913873509703,
          0.0021565988044523195,
          0.0023512228862159943,
          0.002476971356339529,
          0.0028011630840531366,
          0.003045552400680838,
          0.0031080150997049964,
          0.0033794420450948795,
          0.0038242152625882517,
          0.004184739754213477,
          0.004368170077377719,
          0.00449531505264906,
          0.006469738599125809,
          0.008174682643537021,
          0.008587783078202358,
          0.009206704371828535,
          0.00952220066997506,
          0.009828889070682464,
          0.01106111652172857,
          0.012410574921681456,
          0.012575973717506803,
          0.012838215978356994,
          0.036790382983290126,
          0.04292741650651649,
          0.04430949335175379,
          0.05222354967572449,
          0.11179149735733877,
          0.14056439498054013,
          0.14312796962873575,
          0.280583489852914
         ],
         "xaxis": "x2",
         "y": [
          "Card_Category_Blue",
          "Marital_Status_Unknown",
          "Income_Category_$60K - $80K",
          "Income_Category_$40K - $60K",
          "Income_Category_Less than $40K",
          "Income_Category_$80K - $120K",
          "Gender_F",
          "Income_Category_$120K +",
          "Marital_Status_Divorced",
          "Marital_Status_Single",
          "Education_Level_Graduate",
          "Gender_M",
          "Card_Category_Gold",
          "Education_Level_High School",
          "Card_Category_Silver",
          "Months_on_book",
          "Education_Level_College",
          "Marital_Status_Married",
          "Customer_Age",
          "Education_Level_Post-Graduate",
          "Education_Level_Unknown",
          "Dependent_count",
          "Education_Level_Uneducated",
          "Avg_Open_To_Buy",
          "Credit_Limit",
          "Income_Category_Unknown",
          "Contacts_Count_12_mon",
          "Education_Level_Doctorate",
          "Avg_Utilization_Ratio",
          "Total_Amt_Chng_Q4_Q1",
          "Card_Category_Platinum",
          "Total_Ct_Chng_Q4_Q1",
          "Months_Inactive_12_mon",
          "Total_Relationship_Count",
          "Total_Revolving_Bal",
          "Total_Trans_Amt",
          "Total_Trans_Ct"
         ],
         "yaxis": "y2"
        }
       ],
       "layout": {
        "annotations": [
         {
          "font": {},
          "showarrow": false,
          "text": "method=SHAP",
          "x": 0.245,
          "xanchor": "center",
          "xref": "paper",
          "y": 1,
          "yanchor": "bottom",
          "yref": "paper"
         },
         {
          "font": {},
          "showarrow": false,
          "text": "method=LIME",
          "x": 0.755,
          "xanchor": "center",
          "xref": "paper",
          "y": 1,
          "yanchor": "bottom",
          "yref": "paper"
         }
        ],
        "barmode": "group",
        "legend": {
         "title": {
          "text": "model"
         },
         "tracegroupgap": 0
        },
        "template": {
         "data": {
          "bar": [
           {
            "error_x": {
             "color": "#2a3f5f"
            },
            "error_y": {
             "color": "#2a3f5f"
            },
            "marker": {
             "line": {
              "color": "#E5ECF6",
              "width": 0.5
             },
             "pattern": {
              "fillmode": "overlay",
              "size": 10,
              "solidity": 0.2
             }
            },
            "type": "bar"
           }
          ],
          "barpolar": [
           {
            "marker": {
             "line": {
              "color": "#E5ECF6",
              "width": 0.5
             },
             "pattern": {
              "fillmode": "overlay",
              "size": 10,
              "solidity": 0.2
             }
            },
            "type": "barpolar"
           }
          ],
          "carpet": [
           {
            "aaxis": {
             "endlinecolor": "#2a3f5f",
             "gridcolor": "white",
             "linecolor": "white",
             "minorgridcolor": "white",
             "startlinecolor": "#2a3f5f"
            },
            "baxis": {
             "endlinecolor": "#2a3f5f",
             "gridcolor": "white",
             "linecolor": "white",
             "minorgridcolor": "white",
             "startlinecolor": "#2a3f5f"
            },
            "type": "carpet"
           }
          ],
          "choropleth": [
           {
            "colorbar": {
             "outlinewidth": 0,
             "ticks": ""
            },
            "type": "choropleth"
           }
          ],
          "contour": [
           {
            "colorbar": {
             "outlinewidth": 0,
             "ticks": ""
            },
            "colorscale": [
             [
              0,
              "#0d0887"
             ],
             [
              0.1111111111111111,
              "#46039f"
             ],
             [
              0.2222222222222222,
              "#7201a8"
             ],
             [
              0.3333333333333333,
              "#9c179e"
             ],
             [
              0.4444444444444444,
              "#bd3786"
             ],
             [
              0.5555555555555556,
              "#d8576b"
             ],
             [
              0.6666666666666666,
              "#ed7953"
             ],
             [
              0.7777777777777778,
              "#fb9f3a"
             ],
             [
              0.8888888888888888,
              "#fdca26"
             ],
             [
              1,
              "#f0f921"
             ]
            ],
            "type": "contour"
           }
          ],
          "contourcarpet": [
           {
            "colorbar": {
             "outlinewidth": 0,
             "ticks": ""
            },
            "type": "contourcarpet"
           }
          ],
          "heatmap": [
           {
            "colorbar": {
             "outlinewidth": 0,
             "ticks": ""
            },
            "colorscale": [
             [
              0,
              "#0d0887"
             ],
             [
              0.1111111111111111,
              "#46039f"
             ],
             [
              0.2222222222222222,
              "#7201a8"
             ],
             [
              0.3333333333333333,
              "#9c179e"
             ],
             [
              0.4444444444444444,
              "#bd3786"
             ],
             [
              0.5555555555555556,
              "#d8576b"
             ],
             [
              0.6666666666666666,
              "#ed7953"
             ],
             [
              0.7777777777777778,
              "#fb9f3a"
             ],
             [
              0.8888888888888888,
              "#fdca26"
             ],
             [
              1,
              "#f0f921"
             ]
            ],
            "type": "heatmap"
           }
          ],
          "heatmapgl": [
           {
            "colorbar": {
             "outlinewidth": 0,
             "ticks": ""
            },
            "colorscale": [
             [
              0,
              "#0d0887"
             ],
             [
              0.1111111111111111,
              "#46039f"
             ],
             [
              0.2222222222222222,
              "#7201a8"
             ],
             [
              0.3333333333333333,
              "#9c179e"
             ],
             [
              0.4444444444444444,
              "#bd3786"
             ],
             [
              0.5555555555555556,
              "#d8576b"
             ],
             [
              0.6666666666666666,
              "#ed7953"
             ],
             [
              0.7777777777777778,
              "#fb9f3a"
             ],
             [
              0.8888888888888888,
              "#fdca26"
             ],
             [
              1,
              "#f0f921"
             ]
            ],
            "type": "heatmapgl"
           }
          ],
          "histogram": [
           {
            "marker": {
             "pattern": {
              "fillmode": "overlay",
              "size": 10,
              "solidity": 0.2
             }
            },
            "type": "histogram"
           }
          ],
          "histogram2d": [
           {
            "colorbar": {
             "outlinewidth": 0,
             "ticks": ""
            },
            "colorscale": [
             [
              0,
              "#0d0887"
             ],
             [
              0.1111111111111111,
              "#46039f"
             ],
             [
              0.2222222222222222,
              "#7201a8"
             ],
             [
              0.3333333333333333,
              "#9c179e"
             ],
             [
              0.4444444444444444,
              "#bd3786"
             ],
             [
              0.5555555555555556,
              "#d8576b"
             ],
             [
              0.6666666666666666,
              "#ed7953"
             ],
             [
              0.7777777777777778,
              "#fb9f3a"
             ],
             [
              0.8888888888888888,
              "#fdca26"
             ],
             [
              1,
              "#f0f921"
             ]
            ],
            "type": "histogram2d"
           }
          ],
          "histogram2dcontour": [
           {
            "colorbar": {
             "outlinewidth": 0,
             "ticks": ""
            },
            "colorscale": [
             [
              0,
              "#0d0887"
             ],
             [
              0.1111111111111111,
              "#46039f"
             ],
             [
              0.2222222222222222,
              "#7201a8"
             ],
             [
              0.3333333333333333,
              "#9c179e"
             ],
             [
              0.4444444444444444,
              "#bd3786"
             ],
             [
              0.5555555555555556,
              "#d8576b"
             ],
             [
              0.6666666666666666,
              "#ed7953"
             ],
             [
              0.7777777777777778,
              "#fb9f3a"
             ],
             [
              0.8888888888888888,
              "#fdca26"
             ],
             [
              1,
              "#f0f921"
             ]
            ],
            "type": "histogram2dcontour"
           }
          ],
          "mesh3d": [
           {
            "colorbar": {
             "outlinewidth": 0,
             "ticks": ""
            },
            "type": "mesh3d"
           }
          ],
          "parcoords": [
           {
            "line": {
             "colorbar": {
              "outlinewidth": 0,
              "ticks": ""
             }
            },
            "type": "parcoords"
           }
          ],
          "pie": [
           {
            "automargin": true,
            "type": "pie"
           }
          ],
          "scatter": [
           {
            "fillpattern": {
             "fillmode": "overlay",
             "size": 10,
             "solidity": 0.2
            },
            "type": "scatter"
           }
          ],
          "scatter3d": [
           {
            "line": {
             "colorbar": {
              "outlinewidth": 0,
              "ticks": ""
             }
            },
            "marker": {
             "colorbar": {
              "outlinewidth": 0,
              "ticks": ""
             }
            },
            "type": "scatter3d"
           }
          ],
          "scattercarpet": [
           {
            "marker": {
             "colorbar": {
              "outlinewidth": 0,
              "ticks": ""
             }
            },
            "type": "scattercarpet"
           }
          ],
          "scattergeo": [
           {
            "marker": {
             "colorbar": {
              "outlinewidth": 0,
              "ticks": ""
             }
            },
            "type": "scattergeo"
           }
          ],
          "scattergl": [
           {
            "marker": {
             "colorbar": {
              "outlinewidth": 0,
              "ticks": ""
             }
            },
            "type": "scattergl"
           }
          ],
          "scattermapbox": [
           {
            "marker": {
             "colorbar": {
              "outlinewidth": 0,
              "ticks": ""
             }
            },
            "type": "scattermapbox"
           }
          ],
          "scatterpolar": [
           {
            "marker": {
             "colorbar": {
              "outlinewidth": 0,
              "ticks": ""
             }
            },
            "type": "scatterpolar"
           }
          ],
          "scatterpolargl": [
           {
            "marker": {
             "colorbar": {
              "outlinewidth": 0,
              "ticks": ""
             }
            },
            "type": "scatterpolargl"
           }
          ],
          "scatterternary": [
           {
            "marker": {
             "colorbar": {
              "outlinewidth": 0,
              "ticks": ""
             }
            },
            "type": "scatterternary"
           }
          ],
          "surface": [
           {
            "colorbar": {
             "outlinewidth": 0,
             "ticks": ""
            },
            "colorscale": [
             [
              0,
              "#0d0887"
             ],
             [
              0.1111111111111111,
              "#46039f"
             ],
             [
              0.2222222222222222,
              "#7201a8"
             ],
             [
              0.3333333333333333,
              "#9c179e"
             ],
             [
              0.4444444444444444,
              "#bd3786"
             ],
             [
              0.5555555555555556,
              "#d8576b"
             ],
             [
              0.6666666666666666,
              "#ed7953"
             ],
             [
              0.7777777777777778,
              "#fb9f3a"
             ],
             [
              0.8888888888888888,
              "#fdca26"
             ],
             [
              1,
              "#f0f921"
             ]
            ],
            "type": "surface"
           }
          ],
          "table": [
           {
            "cells": {
             "fill": {
              "color": "#EBF0F8"
             },
             "line": {
              "color": "white"
             }
            },
            "header": {
             "fill": {
              "color": "#C8D4E3"
             },
             "line": {
              "color": "white"
             }
            },
            "type": "table"
           }
          ]
         },
         "layout": {
          "annotationdefaults": {
           "arrowcolor": "#2a3f5f",
           "arrowhead": 0,
           "arrowwidth": 1
          },
          "autotypenumbers": "strict",
          "coloraxis": {
           "colorbar": {
            "outlinewidth": 0,
            "ticks": ""
           }
          },
          "colorscale": {
           "diverging": [
            [
             0,
             "#8e0152"
            ],
            [
             0.1,
             "#c51b7d"
            ],
            [
             0.2,
             "#de77ae"
            ],
            [
             0.3,
             "#f1b6da"
            ],
            [
             0.4,
             "#fde0ef"
            ],
            [
             0.5,
             "#f7f7f7"
            ],
            [
             0.6,
             "#e6f5d0"
            ],
            [
             0.7,
             "#b8e186"
            ],
            [
             0.8,
             "#7fbc41"
            ],
            [
             0.9,
             "#4d9221"
            ],
            [
             1,
             "#276419"
            ]
           ],
           "sequential": [
            [
             0,
             "#0d0887"
            ],
            [
             0.1111111111111111,
             "#46039f"
            ],
            [
             0.2222222222222222,
             "#7201a8"
            ],
            [
             0.3333333333333333,
             "#9c179e"
            ],
            [
             0.4444444444444444,
             "#bd3786"
            ],
            [
             0.5555555555555556,
             "#d8576b"
            ],
            [
             0.6666666666666666,
             "#ed7953"
            ],
            [
             0.7777777777777778,
             "#fb9f3a"
            ],
            [
             0.8888888888888888,
             "#fdca26"
            ],
            [
             1,
             "#f0f921"
            ]
           ],
           "sequentialminus": [
            [
             0,
             "#0d0887"
            ],
            [
             0.1111111111111111,
             "#46039f"
            ],
            [
             0.2222222222222222,
             "#7201a8"
            ],
            [
             0.3333333333333333,
             "#9c179e"
            ],
            [
             0.4444444444444444,
             "#bd3786"
            ],
            [
             0.5555555555555556,
             "#d8576b"
            ],
            [
             0.6666666666666666,
             "#ed7953"
            ],
            [
             0.7777777777777778,
             "#fb9f3a"
            ],
            [
             0.8888888888888888,
             "#fdca26"
            ],
            [
             1,
             "#f0f921"
            ]
           ]
          },
          "colorway": [
           "#636efa",
           "#EF553B",
           "#00cc96",
           "#ab63fa",
           "#FFA15A",
           "#19d3f3",
           "#FF6692",
           "#B6E880",
           "#FF97FF",
           "#FECB52"
          ],
          "font": {
           "color": "#2a3f5f"
          },
          "geo": {
           "bgcolor": "white",
           "lakecolor": "white",
           "landcolor": "#E5ECF6",
           "showlakes": true,
           "showland": true,
           "subunitcolor": "white"
          },
          "hoverlabel": {
           "align": "left"
          },
          "hovermode": "closest",
          "mapbox": {
           "style": "light"
          },
          "paper_bgcolor": "white",
          "plot_bgcolor": "#E5ECF6",
          "polar": {
           "angularaxis": {
            "gridcolor": "white",
            "linecolor": "white",
            "ticks": ""
           },
           "bgcolor": "#E5ECF6",
           "radialaxis": {
            "gridcolor": "white",
            "linecolor": "white",
            "ticks": ""
           }
          },
          "scene": {
           "xaxis": {
            "backgroundcolor": "#E5ECF6",
            "gridcolor": "white",
            "gridwidth": 2,
            "linecolor": "white",
            "showbackground": true,
            "ticks": "",
            "zerolinecolor": "white"
           },
           "yaxis": {
            "backgroundcolor": "#E5ECF6",
            "gridcolor": "white",
            "gridwidth": 2,
            "linecolor": "white",
            "showbackground": true,
            "ticks": "",
            "zerolinecolor": "white"
           },
           "zaxis": {
            "backgroundcolor": "#E5ECF6",
            "gridcolor": "white",
            "gridwidth": 2,
            "linecolor": "white",
            "showbackground": true,
            "ticks": "",
            "zerolinecolor": "white"
           }
          },
          "shapedefaults": {
           "line": {
            "color": "#2a3f5f"
           }
          },
          "ternary": {
           "aaxis": {
            "gridcolor": "white",
            "linecolor": "white",
            "ticks": ""
           },
           "baxis": {
            "gridcolor": "white",
            "linecolor": "white",
            "ticks": ""
           },
           "bgcolor": "#E5ECF6",
           "caxis": {
            "gridcolor": "white",
            "linecolor": "white",
            "ticks": ""
           }
          },
          "title": {
           "x": 0.05
          },
          "xaxis": {
           "automargin": true,
           "gridcolor": "white",
           "linecolor": "white",
           "ticks": "",
           "title": {
            "standoff": 15
           },
           "zerolinecolor": "white",
           "zerolinewidth": 2
          },
          "yaxis": {
           "automargin": true,
           "gridcolor": "white",
           "linecolor": "white",
           "ticks": "",
           "title": {
            "standoff": 15
           },
           "zerolinecolor": "white",
           "zerolinewidth": 2
          }
         }
        },
        "title": {
         "text": "Top SHAP and LIME features"
        },
        "xaxis": {
         "anchor": "y",
         "domain": [
          0,
          0.49
         ],
         "title": {
          "text": "value"
         }
        },
        "xaxis2": {
         "anchor": "y2",
         "domain": [
          0.51,
          1
         ],
         "matches": "x",
         "title": {
          "text": "value"
         }
        },
        "yaxis": {
         "anchor": "x",
         "domain": [
          0,
          1
         ],
         "title": {
          "text": "index"
         }
        },
        "yaxis2": {
         "anchor": "x2",
         "domain": [
          0,
          1
         ],
         "matches": "y",
         "showticklabels": false
        }
       }
      }
     },
     "metadata": {},
     "output_type": "display_data"
    }
   ],
   "source": [
    "# plot the results\n",
    "fig = px.bar(shap_lime_df.sort_values(by='value', ascending=True),\n",
    "                y='index', \n",
    "                x='value', \n",
    "                color='model', \n",
    "                barmode='group',\n",
    "                facet_col='method', \n",
    "                title=\"Top SHAP and LIME features\")\n",
    "fig.show()"
   ]
  }
 ],
 "metadata": {
  "kernelspec": {
   "display_name": "base",
   "language": "python",
   "name": "python3"
  },
  "language_info": {
   "codemirror_mode": {
    "name": "ipython",
    "version": 3
   },
   "file_extension": ".py",
   "mimetype": "text/x-python",
   "name": "python",
   "nbconvert_exporter": "python",
   "pygments_lexer": "ipython3",
   "version": "3.10.9"
  }
 },
 "nbformat": 4,
 "nbformat_minor": 2
}
