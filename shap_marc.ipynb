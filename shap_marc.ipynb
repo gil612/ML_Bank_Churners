{
 "cells": [
  {
   "cell_type": "code",
   "execution_count": 1,
   "metadata": {},
   "outputs": [],
   "source": [
    "import pandas as pd\n",
    "import numpy as np\n",
    "import plotly.express as px\n",
    "import shap\n",
    "from sklearn.model_selection import train_test_split\n",
    "from sklearn.ensemble import RandomForestClassifier, GradientBoostingClassifier\n",
    "from sklearn.tree import DecisionTreeClassifier\n",
    "from sklearn.svm import SVC\n",
    "from sklearn.metrics import classification_report\n",
    "import matplotlib.pyplot as plt\n"
   ]
  },
  {
   "cell_type": "code",
   "execution_count": 2,
   "metadata": {},
   "outputs": [],
   "source": [
    "# load data\n",
    "df = pd.read_csv('data/BankChurners.csv')\n",
    "df.drop(df.columns[0], axis=1, inplace=True)\n",
    "df.drop(df.columns[-2:], axis=1, inplace=True)\n",
    "\n",
    "df.loc[df['Attrition_Flag'] == \"Existing Customer\",[\"Attrition_Flag\"]] = 0\n",
    "df.loc[df['Attrition_Flag'] == \"Attrited Customer\",[\"Attrition_Flag\"]] = 1\n",
    "\n",
    "df[[\"Attrition_Flag\"]] = df[[\"Attrition_Flag\"]].astype(int)"
   ]
  },
  {
   "cell_type": "code",
   "execution_count": 3,
   "metadata": {},
   "outputs": [],
   "source": [
    "\n",
    "\n",
    "np.random.seed(42)\n",
    "\n",
    "#find categorical variables\n",
    "categorical = [var for var in df.columns if df[var].dtype=='O']\n",
    "\n",
    "encoded = pd.get_dummies(df[categorical], prefix=categorical)\n",
    "df_enc = pd.concat([encoded, df], axis=1)\n",
    "df_enc.drop(categorical, axis=1, inplace=True)\n",
    "\n",
    "X = df_enc.drop([\"Attrition_Flag\"], axis=1)\n",
    "y = df_enc[\"Attrition_Flag\"]\n",
    "\n",
    "X_train, X_test, y_train, y_test = train_test_split(X, y, test_size=0.2)"
   ]
  },
  {
   "cell_type": "code",
   "execution_count": 4,
   "metadata": {},
   "outputs": [
    {
     "name": "stdout",
     "output_type": "stream",
     "text": [
      "Classification Report for RandomForest:\n",
      "\n",
      "              precision    recall  f1-score   support\n",
      "\n",
      "           0       0.95      0.99      0.97      1699\n",
      "           1       0.93      0.75      0.83       327\n",
      "\n",
      "    accuracy                           0.95      2026\n",
      "   macro avg       0.94      0.87      0.90      2026\n",
      "weighted avg       0.95      0.95      0.95      2026\n",
      "\n",
      "Classification Report for DecisionTree:\n",
      "\n",
      "              precision    recall  f1-score   support\n",
      "\n",
      "           0       0.96      0.96      0.96      1699\n",
      "           1       0.80      0.78      0.79       327\n",
      "\n",
      "    accuracy                           0.93      2026\n",
      "   macro avg       0.88      0.87      0.88      2026\n",
      "weighted avg       0.93      0.93      0.93      2026\n",
      "\n",
      "Classification Report for GradientBoosting:\n",
      "\n",
      "              precision    recall  f1-score   support\n",
      "\n",
      "           0       0.97      0.99      0.98      1699\n",
      "           1       0.93      0.85      0.89       327\n",
      "\n",
      "    accuracy                           0.97      2026\n",
      "   macro avg       0.95      0.92      0.93      2026\n",
      "weighted avg       0.96      0.97      0.96      2026\n",
      "\n"
     ]
    }
   ],
   "source": [
    "def train_and_store_model(model, X_train, y_train, X_test):\n",
    "    model.fit(X_train, y_train)\n",
    "    y_pred = model.predict(X_test)\n",
    "    return {'model': model, 'predictions': y_pred}\n",
    "\n",
    "models = {\n",
    "    'RandomForest': RandomForestClassifier(),\n",
    "    'DecisionTree': DecisionTreeClassifier(),\n",
    "    'GradientBoosting': GradientBoostingClassifier(),\n",
    "}\n",
    "\n",
    "models_dict = {}\n",
    "\n",
    "for model_name, model in models.items():\n",
    "    models_dict[model_name] = train_and_store_model(model, X_train, y_train, X_test)\n",
    "\n",
    "# Print classification reports\n",
    "for model_name, model_info in models_dict.items():\n",
    "    print(f\"Classification Report for {model_name}:\\n\")\n",
    "    print(classification_report(y_test, model_info['predictions']))"
   ]
  },
  {
   "cell_type": "code",
   "execution_count": 5,
   "metadata": {},
   "outputs": [],
   "source": [
    "shap_values_dict = {}\n",
    "\n",
    "# Calculate SHAP values\n",
    "for model_name, model_info in models_dict.items():\n",
    "    model = model_info['model']\n",
    "    explainer = shap.TreeExplainer(model)\n",
    "    shap_values = explainer.shap_values(X_test)\n",
    "\n",
    "    # Reshape SHAP values if needed\n",
    "    if isinstance(shap_values, list):\n",
    "        shap_values = shap_values[0]\n",
    "\n",
    "    shap_values_dict[model_name] = shap_values"
   ]
  },
  {
   "cell_type": "code",
   "execution_count": 6,
   "metadata": {},
   "outputs": [
    {
     "data": {
      "text/html": [
       "<div>\n",
       "<style scoped>\n",
       "    .dataframe tbody tr th:only-of-type {\n",
       "        vertical-align: middle;\n",
       "    }\n",
       "\n",
       "    .dataframe tbody tr th {\n",
       "        vertical-align: top;\n",
       "    }\n",
       "\n",
       "    .dataframe thead th {\n",
       "        text-align: right;\n",
       "    }\n",
       "</style>\n",
       "<table border=\"1\" class=\"dataframe\">\n",
       "  <thead>\n",
       "    <tr style=\"text-align: right;\">\n",
       "      <th></th>\n",
       "      <th>RandomForest</th>\n",
       "      <th>DecisionTree</th>\n",
       "      <th>GradientBoosting</th>\n",
       "    </tr>\n",
       "  </thead>\n",
       "  <tbody>\n",
       "    <tr>\n",
       "      <th>Total_Trans_Ct</th>\n",
       "      <td>0.252380</td>\n",
       "      <td>0.355082</td>\n",
       "      <td>0.343311</td>\n",
       "    </tr>\n",
       "    <tr>\n",
       "      <th>Total_Revolving_Bal</th>\n",
       "      <td>0.145293</td>\n",
       "      <td>0.141205</td>\n",
       "      <td>0.128633</td>\n",
       "    </tr>\n",
       "    <tr>\n",
       "      <th>Total_Trans_Amt</th>\n",
       "      <td>0.127243</td>\n",
       "      <td>0.173111</td>\n",
       "      <td>0.211888</td>\n",
       "    </tr>\n",
       "    <tr>\n",
       "      <th>Total_Ct_Chng_Q4_Q1</th>\n",
       "      <td>0.095349</td>\n",
       "      <td>0.065044</td>\n",
       "      <td>0.069666</td>\n",
       "    </tr>\n",
       "    <tr>\n",
       "      <th>Total_Relationship_Count</th>\n",
       "      <td>0.087240</td>\n",
       "      <td>0.079089</td>\n",
       "      <td>0.057421</td>\n",
       "    </tr>\n",
       "    <tr>\n",
       "      <th>Avg_Utilization_Ratio</th>\n",
       "      <td>0.046004</td>\n",
       "      <td>0.024136</td>\n",
       "      <td>0.001858</td>\n",
       "    </tr>\n",
       "    <tr>\n",
       "      <th>Months_Inactive_12_mon</th>\n",
       "      <td>0.039551</td>\n",
       "      <td>0.010668</td>\n",
       "      <td>0.047179</td>\n",
       "    </tr>\n",
       "    <tr>\n",
       "      <th>Total_Amt_Chng_Q4_Q1</th>\n",
       "      <td>0.037168</td>\n",
       "      <td>0.033245</td>\n",
       "      <td>0.054486</td>\n",
       "    </tr>\n",
       "    <tr>\n",
       "      <th>Contacts_Count_12_mon</th>\n",
       "      <td>0.028271</td>\n",
       "      <td>0.011519</td>\n",
       "      <td>0.030788</td>\n",
       "    </tr>\n",
       "    <tr>\n",
       "      <th>Credit_Limit</th>\n",
       "      <td>0.018979</td>\n",
       "      <td>0.016780</td>\n",
       "      <td>0.005590</td>\n",
       "    </tr>\n",
       "  </tbody>\n",
       "</table>\n",
       "</div>"
      ],
      "text/plain": [
       "                          RandomForest  DecisionTree  GradientBoosting\n",
       "Total_Trans_Ct                0.252380      0.355082          0.343311\n",
       "Total_Revolving_Bal           0.145293      0.141205          0.128633\n",
       "Total_Trans_Amt               0.127243      0.173111          0.211888\n",
       "Total_Ct_Chng_Q4_Q1           0.095349      0.065044          0.069666\n",
       "Total_Relationship_Count      0.087240      0.079089          0.057421\n",
       "Avg_Utilization_Ratio         0.046004      0.024136          0.001858\n",
       "Months_Inactive_12_mon        0.039551      0.010668          0.047179\n",
       "Total_Amt_Chng_Q4_Q1          0.037168      0.033245          0.054486\n",
       "Contacts_Count_12_mon         0.028271      0.011519          0.030788\n",
       "Credit_Limit                  0.018979      0.016780          0.005590"
      ]
     },
     "execution_count": 6,
     "metadata": {},
     "output_type": "execute_result"
    }
   ],
   "source": [
    "# create a df with the shap values' means\n",
    "shap_mean_df = pd.DataFrame()\n",
    "\n",
    "for model_name, shap_values in shap_values_dict.items():\n",
    "    shap_mean_df[model_name] = np.abs(shap_values).mean(axis=0)\n",
    "    #normalize\n",
    "    shap_mean_df[model_name] = shap_mean_df[model_name] / shap_mean_df[model_name].sum()\n",
    "\n",
    "shap_mean_df.index = X_test.columns\n",
    "#sort by sum\n",
    "shap_mean_df = shap_mean_df.sort_values(by=list(shap_mean_df.columns), ascending=False)\n",
    "shap_mean_df.head(10)"
   ]
  },
  {
   "cell_type": "code",
   "execution_count": 7,
   "metadata": {},
   "outputs": [
    {
     "data": {
      "application/vnd.plotly.v1+json": {
       "config": {
        "plotlyServerURL": "https://plot.ly"
       },
       "data": [
        {
         "alignmentgroup": "True",
         "hovertemplate": "variable=RandomForest<br>index=%{x}<br>value=%{y}<extra></extra>",
         "legendgroup": "RandomForest",
         "marker": {
          "color": "#636efa",
          "pattern": {
           "shape": ""
          }
         },
         "name": "RandomForest",
         "offsetgroup": "RandomForest",
         "orientation": "v",
         "showlegend": true,
         "textposition": "auto",
         "type": "bar",
         "x": [
          "Total_Trans_Ct",
          "Total_Revolving_Bal",
          "Total_Trans_Amt",
          "Total_Ct_Chng_Q4_Q1",
          "Total_Relationship_Count",
          "Avg_Utilization_Ratio",
          "Months_Inactive_12_mon",
          "Total_Amt_Chng_Q4_Q1",
          "Contacts_Count_12_mon",
          "Credit_Limit",
          "Customer_Age",
          "Avg_Open_To_Buy",
          "Gender_M",
          "Gender_F",
          "Months_on_book",
          "Dependent_count",
          "Marital_Status_Married",
          "Marital_Status_Single",
          "Income_Category_Less than $40K",
          "Education_Level_Doctorate",
          "Education_Level_Unknown",
          "Income_Category_$80K - $120K",
          "Education_Level_Graduate",
          "Income_Category_Unknown",
          "Education_Level_Post-Graduate",
          "Education_Level_High School",
          "Income_Category_$40K - $60K",
          "Marital_Status_Divorced",
          "Education_Level_Uneducated",
          "Card_Category_Blue",
          "Income_Category_$60K - $80K",
          "Education_Level_College",
          "Income_Category_$120K +",
          "Card_Category_Gold",
          "Marital_Status_Unknown",
          "Card_Category_Silver",
          "Card_Category_Platinum"
         ],
         "xaxis": "x",
         "y": [
          0.25238006639592814,
          0.14529346964048329,
          0.12724330237432344,
          0.0953494006820334,
          0.0872399645718407,
          0.04600377849200439,
          0.039550926824284884,
          0.03716760083637638,
          0.028270521741874364,
          0.018978902259922496,
          0.017145036869838825,
          0.016740122501755134,
          0.014902476169248759,
          0.0142296417157625,
          0.008188870232741759,
          0.0071854767843729265,
          0.006258039372216302,
          0.00531363726665432,
          0.003895099044081094,
          0.0027327096417234208,
          0.002548364140047861,
          0.0025291947953685794,
          0.0024907026881728156,
          0.0021946958117507556,
          0.0018260942889639744,
          0.0016345689585238405,
          0.0016078881463986075,
          0.0015619979928410124,
          0.001454129871866816,
          0.0014103366194555646,
          0.0013440864070401798,
          0.0012448657281246961,
          0.0010713703584853058,
          0.0010291092316070413,
          0.0008467081760075151,
          0.0008069461798172933,
          0.0003298971880616474
         ],
         "yaxis": "y"
        },
        {
         "alignmentgroup": "True",
         "hovertemplate": "variable=DecisionTree<br>index=%{x}<br>value=%{y}<extra></extra>",
         "legendgroup": "DecisionTree",
         "marker": {
          "color": "#EF553B",
          "pattern": {
           "shape": ""
          }
         },
         "name": "DecisionTree",
         "offsetgroup": "DecisionTree",
         "orientation": "v",
         "showlegend": true,
         "textposition": "auto",
         "type": "bar",
         "x": [
          "Total_Trans_Ct",
          "Total_Revolving_Bal",
          "Total_Trans_Amt",
          "Total_Ct_Chng_Q4_Q1",
          "Total_Relationship_Count",
          "Avg_Utilization_Ratio",
          "Months_Inactive_12_mon",
          "Total_Amt_Chng_Q4_Q1",
          "Contacts_Count_12_mon",
          "Credit_Limit",
          "Customer_Age",
          "Avg_Open_To_Buy",
          "Gender_M",
          "Gender_F",
          "Months_on_book",
          "Dependent_count",
          "Marital_Status_Married",
          "Marital_Status_Single",
          "Income_Category_Less than $40K",
          "Education_Level_Doctorate",
          "Education_Level_Unknown",
          "Income_Category_$80K - $120K",
          "Education_Level_Graduate",
          "Income_Category_Unknown",
          "Education_Level_Post-Graduate",
          "Education_Level_High School",
          "Income_Category_$40K - $60K",
          "Marital_Status_Divorced",
          "Education_Level_Uneducated",
          "Card_Category_Blue",
          "Income_Category_$60K - $80K",
          "Education_Level_College",
          "Income_Category_$120K +",
          "Card_Category_Gold",
          "Marital_Status_Unknown",
          "Card_Category_Silver",
          "Card_Category_Platinum"
         ],
         "xaxis": "x",
         "y": [
          0.3550815687078295,
          0.14120518969338075,
          0.17311129308203044,
          0.06504380530557556,
          0.07908882722000328,
          0.02413623442724761,
          0.010667838672750039,
          0.03324472943606788,
          0.011519356744027143,
          0.01677990684695368,
          0.031221427987577197,
          0.010199115244898962,
          0.00039142518255103276,
          0.0053402275837120365,
          0.011390727691933835,
          0.0037942226155130523,
          0.00494043951248067,
          0.0008593175380669739,
          0,
          0.0019538357046229933,
          0.0011618594194393922,
          0.001139178780721039,
          0.003784460580449323,
          0.0017262346541902739,
          0.0008968755049469601,
          0,
          0.0006693035420104405,
          0.0032297055289440624,
          0,
          0.00046683349405557005,
          0.0014253639062371754,
          0.0019408931567654858,
          0.0007071040825105447,
          0,
          0.0012000166338824374,
          0,
          0.0016826815186247706
         ],
         "yaxis": "y"
        },
        {
         "alignmentgroup": "True",
         "hovertemplate": "variable=GradientBoosting<br>index=%{x}<br>value=%{y}<extra></extra>",
         "legendgroup": "GradientBoosting",
         "marker": {
          "color": "#00cc96",
          "pattern": {
           "shape": ""
          }
         },
         "name": "GradientBoosting",
         "offsetgroup": "GradientBoosting",
         "orientation": "v",
         "showlegend": true,
         "textposition": "auto",
         "type": "bar",
         "x": [
          "Total_Trans_Ct",
          "Total_Revolving_Bal",
          "Total_Trans_Amt",
          "Total_Ct_Chng_Q4_Q1",
          "Total_Relationship_Count",
          "Avg_Utilization_Ratio",
          "Months_Inactive_12_mon",
          "Total_Amt_Chng_Q4_Q1",
          "Contacts_Count_12_mon",
          "Credit_Limit",
          "Customer_Age",
          "Avg_Open_To_Buy",
          "Gender_M",
          "Gender_F",
          "Months_on_book",
          "Dependent_count",
          "Marital_Status_Married",
          "Marital_Status_Single",
          "Income_Category_Less than $40K",
          "Education_Level_Doctorate",
          "Education_Level_Unknown",
          "Income_Category_$80K - $120K",
          "Education_Level_Graduate",
          "Income_Category_Unknown",
          "Education_Level_Post-Graduate",
          "Education_Level_High School",
          "Income_Category_$40K - $60K",
          "Marital_Status_Divorced",
          "Education_Level_Uneducated",
          "Card_Category_Blue",
          "Income_Category_$60K - $80K",
          "Education_Level_College",
          "Income_Category_$120K +",
          "Card_Category_Gold",
          "Marital_Status_Unknown",
          "Card_Category_Silver",
          "Card_Category_Platinum"
         ],
         "xaxis": "x",
         "y": [
          0.34331090941028386,
          0.12863332386822687,
          0.21188766679813167,
          0.06966633981619709,
          0.0574211056088307,
          0.0018580770372443245,
          0.047179415236678214,
          0.0544856866760653,
          0.0307882460894038,
          0.0055898687310390474,
          0.01802094867118901,
          0.008267557013992781,
          0.006938502337567598,
          0.00853153232162198,
          0.003212640601858748,
          0.0000333539356040878,
          0.003531941556386221,
          0.00005410646866847218,
          0.00005018896281267174,
          0,
          0,
          0,
          0.00002110494851033518,
          0,
          0.000021554578303579368,
          0,
          0,
          0.000029038852512790876,
          0,
          0,
          0,
          0,
          0.0000028637699130971738,
          0,
          0,
          0,
          0.0004640267089577834
         ],
         "yaxis": "y"
        }
       ],
       "layout": {
        "barmode": "group",
        "legend": {
         "title": {
          "text": "variable"
         },
         "tracegroupgap": 0
        },
        "template": {
         "data": {
          "bar": [
           {
            "error_x": {
             "color": "#2a3f5f"
            },
            "error_y": {
             "color": "#2a3f5f"
            },
            "marker": {
             "line": {
              "color": "#E5ECF6",
              "width": 0.5
             },
             "pattern": {
              "fillmode": "overlay",
              "size": 10,
              "solidity": 0.2
             }
            },
            "type": "bar"
           }
          ],
          "barpolar": [
           {
            "marker": {
             "line": {
              "color": "#E5ECF6",
              "width": 0.5
             },
             "pattern": {
              "fillmode": "overlay",
              "size": 10,
              "solidity": 0.2
             }
            },
            "type": "barpolar"
           }
          ],
          "carpet": [
           {
            "aaxis": {
             "endlinecolor": "#2a3f5f",
             "gridcolor": "white",
             "linecolor": "white",
             "minorgridcolor": "white",
             "startlinecolor": "#2a3f5f"
            },
            "baxis": {
             "endlinecolor": "#2a3f5f",
             "gridcolor": "white",
             "linecolor": "white",
             "minorgridcolor": "white",
             "startlinecolor": "#2a3f5f"
            },
            "type": "carpet"
           }
          ],
          "choropleth": [
           {
            "colorbar": {
             "outlinewidth": 0,
             "ticks": ""
            },
            "type": "choropleth"
           }
          ],
          "contour": [
           {
            "colorbar": {
             "outlinewidth": 0,
             "ticks": ""
            },
            "colorscale": [
             [
              0,
              "#0d0887"
             ],
             [
              0.1111111111111111,
              "#46039f"
             ],
             [
              0.2222222222222222,
              "#7201a8"
             ],
             [
              0.3333333333333333,
              "#9c179e"
             ],
             [
              0.4444444444444444,
              "#bd3786"
             ],
             [
              0.5555555555555556,
              "#d8576b"
             ],
             [
              0.6666666666666666,
              "#ed7953"
             ],
             [
              0.7777777777777778,
              "#fb9f3a"
             ],
             [
              0.8888888888888888,
              "#fdca26"
             ],
             [
              1,
              "#f0f921"
             ]
            ],
            "type": "contour"
           }
          ],
          "contourcarpet": [
           {
            "colorbar": {
             "outlinewidth": 0,
             "ticks": ""
            },
            "type": "contourcarpet"
           }
          ],
          "heatmap": [
           {
            "colorbar": {
             "outlinewidth": 0,
             "ticks": ""
            },
            "colorscale": [
             [
              0,
              "#0d0887"
             ],
             [
              0.1111111111111111,
              "#46039f"
             ],
             [
              0.2222222222222222,
              "#7201a8"
             ],
             [
              0.3333333333333333,
              "#9c179e"
             ],
             [
              0.4444444444444444,
              "#bd3786"
             ],
             [
              0.5555555555555556,
              "#d8576b"
             ],
             [
              0.6666666666666666,
              "#ed7953"
             ],
             [
              0.7777777777777778,
              "#fb9f3a"
             ],
             [
              0.8888888888888888,
              "#fdca26"
             ],
             [
              1,
              "#f0f921"
             ]
            ],
            "type": "heatmap"
           }
          ],
          "heatmapgl": [
           {
            "colorbar": {
             "outlinewidth": 0,
             "ticks": ""
            },
            "colorscale": [
             [
              0,
              "#0d0887"
             ],
             [
              0.1111111111111111,
              "#46039f"
             ],
             [
              0.2222222222222222,
              "#7201a8"
             ],
             [
              0.3333333333333333,
              "#9c179e"
             ],
             [
              0.4444444444444444,
              "#bd3786"
             ],
             [
              0.5555555555555556,
              "#d8576b"
             ],
             [
              0.6666666666666666,
              "#ed7953"
             ],
             [
              0.7777777777777778,
              "#fb9f3a"
             ],
             [
              0.8888888888888888,
              "#fdca26"
             ],
             [
              1,
              "#f0f921"
             ]
            ],
            "type": "heatmapgl"
           }
          ],
          "histogram": [
           {
            "marker": {
             "pattern": {
              "fillmode": "overlay",
              "size": 10,
              "solidity": 0.2
             }
            },
            "type": "histogram"
           }
          ],
          "histogram2d": [
           {
            "colorbar": {
             "outlinewidth": 0,
             "ticks": ""
            },
            "colorscale": [
             [
              0,
              "#0d0887"
             ],
             [
              0.1111111111111111,
              "#46039f"
             ],
             [
              0.2222222222222222,
              "#7201a8"
             ],
             [
              0.3333333333333333,
              "#9c179e"
             ],
             [
              0.4444444444444444,
              "#bd3786"
             ],
             [
              0.5555555555555556,
              "#d8576b"
             ],
             [
              0.6666666666666666,
              "#ed7953"
             ],
             [
              0.7777777777777778,
              "#fb9f3a"
             ],
             [
              0.8888888888888888,
              "#fdca26"
             ],
             [
              1,
              "#f0f921"
             ]
            ],
            "type": "histogram2d"
           }
          ],
          "histogram2dcontour": [
           {
            "colorbar": {
             "outlinewidth": 0,
             "ticks": ""
            },
            "colorscale": [
             [
              0,
              "#0d0887"
             ],
             [
              0.1111111111111111,
              "#46039f"
             ],
             [
              0.2222222222222222,
              "#7201a8"
             ],
             [
              0.3333333333333333,
              "#9c179e"
             ],
             [
              0.4444444444444444,
              "#bd3786"
             ],
             [
              0.5555555555555556,
              "#d8576b"
             ],
             [
              0.6666666666666666,
              "#ed7953"
             ],
             [
              0.7777777777777778,
              "#fb9f3a"
             ],
             [
              0.8888888888888888,
              "#fdca26"
             ],
             [
              1,
              "#f0f921"
             ]
            ],
            "type": "histogram2dcontour"
           }
          ],
          "mesh3d": [
           {
            "colorbar": {
             "outlinewidth": 0,
             "ticks": ""
            },
            "type": "mesh3d"
           }
          ],
          "parcoords": [
           {
            "line": {
             "colorbar": {
              "outlinewidth": 0,
              "ticks": ""
             }
            },
            "type": "parcoords"
           }
          ],
          "pie": [
           {
            "automargin": true,
            "type": "pie"
           }
          ],
          "scatter": [
           {
            "fillpattern": {
             "fillmode": "overlay",
             "size": 10,
             "solidity": 0.2
            },
            "type": "scatter"
           }
          ],
          "scatter3d": [
           {
            "line": {
             "colorbar": {
              "outlinewidth": 0,
              "ticks": ""
             }
            },
            "marker": {
             "colorbar": {
              "outlinewidth": 0,
              "ticks": ""
             }
            },
            "type": "scatter3d"
           }
          ],
          "scattercarpet": [
           {
            "marker": {
             "colorbar": {
              "outlinewidth": 0,
              "ticks": ""
             }
            },
            "type": "scattercarpet"
           }
          ],
          "scattergeo": [
           {
            "marker": {
             "colorbar": {
              "outlinewidth": 0,
              "ticks": ""
             }
            },
            "type": "scattergeo"
           }
          ],
          "scattergl": [
           {
            "marker": {
             "colorbar": {
              "outlinewidth": 0,
              "ticks": ""
             }
            },
            "type": "scattergl"
           }
          ],
          "scattermapbox": [
           {
            "marker": {
             "colorbar": {
              "outlinewidth": 0,
              "ticks": ""
             }
            },
            "type": "scattermapbox"
           }
          ],
          "scatterpolar": [
           {
            "marker": {
             "colorbar": {
              "outlinewidth": 0,
              "ticks": ""
             }
            },
            "type": "scatterpolar"
           }
          ],
          "scatterpolargl": [
           {
            "marker": {
             "colorbar": {
              "outlinewidth": 0,
              "ticks": ""
             }
            },
            "type": "scatterpolargl"
           }
          ],
          "scatterternary": [
           {
            "marker": {
             "colorbar": {
              "outlinewidth": 0,
              "ticks": ""
             }
            },
            "type": "scatterternary"
           }
          ],
          "surface": [
           {
            "colorbar": {
             "outlinewidth": 0,
             "ticks": ""
            },
            "colorscale": [
             [
              0,
              "#0d0887"
             ],
             [
              0.1111111111111111,
              "#46039f"
             ],
             [
              0.2222222222222222,
              "#7201a8"
             ],
             [
              0.3333333333333333,
              "#9c179e"
             ],
             [
              0.4444444444444444,
              "#bd3786"
             ],
             [
              0.5555555555555556,
              "#d8576b"
             ],
             [
              0.6666666666666666,
              "#ed7953"
             ],
             [
              0.7777777777777778,
              "#fb9f3a"
             ],
             [
              0.8888888888888888,
              "#fdca26"
             ],
             [
              1,
              "#f0f921"
             ]
            ],
            "type": "surface"
           }
          ],
          "table": [
           {
            "cells": {
             "fill": {
              "color": "#EBF0F8"
             },
             "line": {
              "color": "white"
             }
            },
            "header": {
             "fill": {
              "color": "#C8D4E3"
             },
             "line": {
              "color": "white"
             }
            },
            "type": "table"
           }
          ]
         },
         "layout": {
          "annotationdefaults": {
           "arrowcolor": "#2a3f5f",
           "arrowhead": 0,
           "arrowwidth": 1
          },
          "autotypenumbers": "strict",
          "coloraxis": {
           "colorbar": {
            "outlinewidth": 0,
            "ticks": ""
           }
          },
          "colorscale": {
           "diverging": [
            [
             0,
             "#8e0152"
            ],
            [
             0.1,
             "#c51b7d"
            ],
            [
             0.2,
             "#de77ae"
            ],
            [
             0.3,
             "#f1b6da"
            ],
            [
             0.4,
             "#fde0ef"
            ],
            [
             0.5,
             "#f7f7f7"
            ],
            [
             0.6,
             "#e6f5d0"
            ],
            [
             0.7,
             "#b8e186"
            ],
            [
             0.8,
             "#7fbc41"
            ],
            [
             0.9,
             "#4d9221"
            ],
            [
             1,
             "#276419"
            ]
           ],
           "sequential": [
            [
             0,
             "#0d0887"
            ],
            [
             0.1111111111111111,
             "#46039f"
            ],
            [
             0.2222222222222222,
             "#7201a8"
            ],
            [
             0.3333333333333333,
             "#9c179e"
            ],
            [
             0.4444444444444444,
             "#bd3786"
            ],
            [
             0.5555555555555556,
             "#d8576b"
            ],
            [
             0.6666666666666666,
             "#ed7953"
            ],
            [
             0.7777777777777778,
             "#fb9f3a"
            ],
            [
             0.8888888888888888,
             "#fdca26"
            ],
            [
             1,
             "#f0f921"
            ]
           ],
           "sequentialminus": [
            [
             0,
             "#0d0887"
            ],
            [
             0.1111111111111111,
             "#46039f"
            ],
            [
             0.2222222222222222,
             "#7201a8"
            ],
            [
             0.3333333333333333,
             "#9c179e"
            ],
            [
             0.4444444444444444,
             "#bd3786"
            ],
            [
             0.5555555555555556,
             "#d8576b"
            ],
            [
             0.6666666666666666,
             "#ed7953"
            ],
            [
             0.7777777777777778,
             "#fb9f3a"
            ],
            [
             0.8888888888888888,
             "#fdca26"
            ],
            [
             1,
             "#f0f921"
            ]
           ]
          },
          "colorway": [
           "#636efa",
           "#EF553B",
           "#00cc96",
           "#ab63fa",
           "#FFA15A",
           "#19d3f3",
           "#FF6692",
           "#B6E880",
           "#FF97FF",
           "#FECB52"
          ],
          "font": {
           "color": "#2a3f5f"
          },
          "geo": {
           "bgcolor": "white",
           "lakecolor": "white",
           "landcolor": "#E5ECF6",
           "showlakes": true,
           "showland": true,
           "subunitcolor": "white"
          },
          "hoverlabel": {
           "align": "left"
          },
          "hovermode": "closest",
          "mapbox": {
           "style": "light"
          },
          "paper_bgcolor": "white",
          "plot_bgcolor": "#E5ECF6",
          "polar": {
           "angularaxis": {
            "gridcolor": "white",
            "linecolor": "white",
            "ticks": ""
           },
           "bgcolor": "#E5ECF6",
           "radialaxis": {
            "gridcolor": "white",
            "linecolor": "white",
            "ticks": ""
           }
          },
          "scene": {
           "xaxis": {
            "backgroundcolor": "#E5ECF6",
            "gridcolor": "white",
            "gridwidth": 2,
            "linecolor": "white",
            "showbackground": true,
            "ticks": "",
            "zerolinecolor": "white"
           },
           "yaxis": {
            "backgroundcolor": "#E5ECF6",
            "gridcolor": "white",
            "gridwidth": 2,
            "linecolor": "white",
            "showbackground": true,
            "ticks": "",
            "zerolinecolor": "white"
           },
           "zaxis": {
            "backgroundcolor": "#E5ECF6",
            "gridcolor": "white",
            "gridwidth": 2,
            "linecolor": "white",
            "showbackground": true,
            "ticks": "",
            "zerolinecolor": "white"
           }
          },
          "shapedefaults": {
           "line": {
            "color": "#2a3f5f"
           }
          },
          "ternary": {
           "aaxis": {
            "gridcolor": "white",
            "linecolor": "white",
            "ticks": ""
           },
           "baxis": {
            "gridcolor": "white",
            "linecolor": "white",
            "ticks": ""
           },
           "bgcolor": "#E5ECF6",
           "caxis": {
            "gridcolor": "white",
            "linecolor": "white",
            "ticks": ""
           }
          },
          "title": {
           "x": 0.05
          },
          "xaxis": {
           "automargin": true,
           "gridcolor": "white",
           "linecolor": "white",
           "ticks": "",
           "title": {
            "standoff": 15
           },
           "zerolinecolor": "white",
           "zerolinewidth": 2
          },
          "yaxis": {
           "automargin": true,
           "gridcolor": "white",
           "linecolor": "white",
           "ticks": "",
           "title": {
            "standoff": 15
           },
           "zerolinecolor": "white",
           "zerolinewidth": 2
          }
         }
        },
        "title": {
         "text": "Top SHAP features"
        },
        "xaxis": {
         "anchor": "y",
         "domain": [
          0,
          1
         ],
         "title": {
          "text": "index"
         }
        },
        "yaxis": {
         "anchor": "x",
         "domain": [
          0,
          1
         ],
         "title": {
          "text": "value"
         }
        }
       }
      }
     },
     "metadata": {},
     "output_type": "display_data"
    }
   ],
   "source": [
    "fig = px.bar(shap_mean_df.sort_values(by='RandomForest', ascending=False),\n",
    "                title=\"Top SHAP features\", barmode='group') \n",
    "\n",
    "fig.show()"
   ]
  },
  {
   "cell_type": "code",
   "execution_count": null,
   "metadata": {},
   "outputs": [],
   "source": [
    "# Plot the feature dependences\n",
    "for model, shap_values in shap_values_dict.items():\n",
    "    # Create dependence plots for each feature\n",
    "    for feature_name in X_test.columns:\n",
    "        shap.dependence_plot(feature_name, shap_values, X_test, feature_names=X_test.columns,\n",
    "                             interaction_index='auto', show=False)\n",
    "        plt.title(f'SHAP Dependence Plot - {model_name} - {feature_name}')\n",
    "        plt.show()\n"
   ]
  }
 ],
 "metadata": {
  "kernelspec": {
   "display_name": "base",
   "language": "python",
   "name": "python3"
  },
  "language_info": {
   "codemirror_mode": {
    "name": "ipython",
    "version": 3
   },
   "file_extension": ".py",
   "mimetype": "text/x-python",
   "name": "python",
   "nbconvert_exporter": "python",
   "pygments_lexer": "ipython3",
   "version": "3.10.13"
  }
 },
 "nbformat": 4,
 "nbformat_minor": 2
}
