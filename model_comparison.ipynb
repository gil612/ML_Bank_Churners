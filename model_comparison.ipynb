{
 "cells": [
  {
   "cell_type": "markdown",
   "metadata": {},
   "source": [
    "# Notebook zum Vergleichen der Ergebnisse verschiedener Modelle\n",
    "\n",
    "- Einheitliche Vorverarbeitung\n",
    "- Random Forest, Entscheidungsbaum und GBM, um nicht nur die XAI-Ansätze sondern auch deren Ergebnisse für verschiedene Modelle zu betrachten\n",
    "- Untersucht Laufzeiten, globale Feature Importances zwischen den Algorithmen sowie \n",
    "Unterschiede zwischen den verglichenen Modellen"
   ]
  },
  {
   "cell_type": "code",
   "execution_count": 1,
   "metadata": {},
   "outputs": [
    {
     "name": "stdout",
     "output_type": "stream",
     "text": [
      "LMFB\n"
     ]
    }
   ],
   "source": [
    "import pandas as pd\n",
    "import numpy as np\n",
    "import plotly.express as px\n",
    "import shap\n",
    "from sklearn.model_selection import train_test_split\n",
    "from sklearn.ensemble import RandomForestClassifier, GradientBoostingClassifier\n",
    "from sklearn.tree import DecisionTreeClassifier\n",
    "from sklearn.svm import SVC\n",
    "from sklearn.metrics import classification_report\n",
    "import matplotlib.pyplot as plt\n",
    "import lime\n",
    "import lime.lime_tabular\n",
    "import time"
   ]
  },
  {
   "cell_type": "markdown",
   "metadata": {},
   "source": [
    "## Laden der Daten und Vorverarbeitung"
   ]
  },
  {
   "cell_type": "code",
   "execution_count": 2,
   "metadata": {},
   "outputs": [],
   "source": [
    "# Daten laden Label formatieren\n",
    "df = pd.read_csv('data/BankChurners.csv')#.sample(300)\n",
    "df.drop(df.columns[0], axis=1, inplace=True)\n",
    "df.drop(df.columns[-2:], axis=1, inplace=True)\n",
    "\n",
    "df.loc[df['Attrition_Flag'] == \"Existing Customer\",[\"Attrition_Flag\"]] = 0\n",
    "df.loc[df['Attrition_Flag'] == \"Attrited Customer\",[\"Attrition_Flag\"]] = 1\n",
    "\n",
    "df[[\"Attrition_Flag\"]] = df[[\"Attrition_Flag\"]].astype(int)"
   ]
  },
  {
   "cell_type": "code",
   "execution_count": 3,
   "metadata": {},
   "outputs": [],
   "source": [
    "# Numpy-Seed festlegen für Reproduzierbarkeit\n",
    "np.random.seed(0)\n",
    "\n",
    "#kategorische Variablen werden kodiert\n",
    "categorical = df.select_dtypes(exclude=[\"number\",\"bool_\"]).columns\n",
    "\n",
    "encoded = pd.get_dummies(df[categorical], prefix=categorical)\n",
    "df_enc = pd.concat([encoded, df], axis=1)\n",
    "df_enc.drop(categorical, axis=1, inplace=True)\n",
    "\n",
    "#Trennen von Features und Labels\n",
    "X = df_enc.drop([\"Attrition_Flag\"], axis=1)\n",
    "y = df_enc[\"Attrition_Flag\"]\n",
    "\n",
    "#Aufteilen in Trainings- und Testdaten\n",
    "X_train, X_test, y_train, y_test = train_test_split(X, y, test_size=0.2)"
   ]
  },
  {
   "cell_type": "markdown",
   "metadata": {},
   "source": [
    "## Training der zu evaluierenden Modelle\n",
    "- alle Modelle liefern gute Ergebnisse"
   ]
  },
  {
   "cell_type": "code",
   "execution_count": 4,
   "metadata": {},
   "outputs": [
    {
     "name": "stderr",
     "output_type": "stream",
     "text": [
      "X has feature names, but RandomForestClassifier was fitted without feature names\n",
      "X has feature names, but DecisionTreeClassifier was fitted without feature names\n"
     ]
    },
    {
     "name": "stdout",
     "output_type": "stream",
     "text": [
      "Classification Report for RandomForest:\n",
      "\n",
      "              precision    recall  f1-score   support\n",
      "\n",
      "           0       0.96      0.99      0.97      1717\n",
      "           1       0.92      0.74      0.82       309\n",
      "\n",
      "    accuracy                           0.95      2026\n",
      "   macro avg       0.94      0.87      0.90      2026\n",
      "weighted avg       0.95      0.95      0.95      2026\n",
      "\n",
      "Classification Report for DecisionTree:\n",
      "\n",
      "              precision    recall  f1-score   support\n",
      "\n",
      "           0       0.96      0.96      0.96      1717\n",
      "           1       0.78      0.77      0.78       309\n",
      "\n",
      "    accuracy                           0.93      2026\n",
      "   macro avg       0.87      0.87      0.87      2026\n",
      "weighted avg       0.93      0.93      0.93      2026\n",
      "\n",
      "Classification Report for GradientBoosting:\n",
      "\n",
      "              precision    recall  f1-score   support\n",
      "\n",
      "           0       0.97      0.99      0.98      1717\n",
      "           1       0.94      0.85      0.89       309\n",
      "\n",
      "    accuracy                           0.97      2026\n",
      "   macro avg       0.96      0.92      0.94      2026\n",
      "weighted avg       0.97      0.97      0.97      2026\n",
      "\n"
     ]
    },
    {
     "name": "stderr",
     "output_type": "stream",
     "text": [
      "X has feature names, but GradientBoostingClassifier was fitted without feature names\n"
     ]
    }
   ],
   "source": [
    "def train_and_store_model(model, X_train, y_train, X_test):\n",
    "    model.fit(X_train.values, y_train)\n",
    "    y_pred = model.predict(X_test)\n",
    "    return {'model': model, 'predictions': y_pred}\n",
    "\n",
    "models = {\n",
    "    'RandomForest': RandomForestClassifier(),\n",
    "    'DecisionTree': DecisionTreeClassifier(),\n",
    "    'GradientBoosting': GradientBoostingClassifier(),\n",
    "}\n",
    "\n",
    "# leeres Dictionary für die Modelle\n",
    "models_dict = {}\n",
    "\n",
    "for model_name, model in models.items():\n",
    "    models_dict[model_name] = train_and_store_model(model, X_train, y_train, X_test)\n",
    "\n",
    "for model_name, model_info in models_dict.items():\n",
    "    print(f\"Classification Report for {model_name}:\\n\")\n",
    "    print(classification_report(y_test, model_info['predictions']))"
   ]
  },
  {
   "cell_type": "markdown",
   "metadata": {},
   "source": [
    "## SHAP\n",
    "- iteriert lokal über alle Kombinationen von Features\n",
    "- lokale Vorhersagen werden global gemittelt "
   ]
  },
  {
   "cell_type": "code",
   "execution_count": null,
   "metadata": {},
   "outputs": [],
   "source": [
    "shap_values_dict = {}\n",
    "\n",
    "# Timer starten\n",
    "start_time = time.time()\n",
    "\n",
    "# SHAP-Werte für jedes Modell berechnen\n",
    "for model_name, model_info in models_dict.items():\n",
    "    model = model_info['model']\n",
    "    explainer = shap.TreeExplainer(model)\n",
    "    shap_values = explainer.shap_values(X_test)\n",
    "\n",
    "    # Reshapen\n",
    "    if isinstance(shap_values, list):\n",
    "        shap_values = shap_values[0]\n",
    "\n",
    "    shap_values_dict[model_name] = shap_values\n",
    "\n",
    "# Zeit stoppen\n",
    "shap_time = time.time() - start_time\n",
    "\n",
    "# Dataframe für die aggregierten SHAP-Werte\n",
    "shap_mean_df = pd.DataFrame()\n",
    "\n",
    "# Aggregierte SHAP-Werte für jedes Modell berechnen\n",
    "for model_name, shap_values in shap_values_dict.items():\n",
    "    shap_mean_df[model_name] = np.abs(shap_values).mean(axis=0)\n",
    "\n",
    "    #Normalisieren der Werte, um sie vergleichbar zu machen\n",
    "    shap_mean_df[model_name] = shap_mean_df[model_name] / shap_mean_df[model_name].sum()\n",
    "\n",
    "shap_mean_df.index = X_test.columns\n",
    "shap_mean_df = shap_mean_df.sort_values(by=list(shap_mean_df.columns), ascending=False)\n",
    "shap_mean_df.head(10)"
   ]
  },
  {
   "cell_type": "markdown",
   "metadata": {},
   "source": [
    "## LIME\n",
    "- trainiert lokale Modelle, um Vorhersagen zu erklären\n",
    "- lokale Vorhersagen werden global gemittelt "
   ]
  },
  {
   "cell_type": "code",
   "execution_count": 6,
   "metadata": {},
   "outputs": [],
   "source": [
    "# Timer starten\n",
    "start_time = time.time()\n",
    "\n",
    "explainer = lime.lime_tabular.LimeTabularExplainer(X_train.values, feature_names=X_train.columns)\n",
    "\n",
    "# LIME-Ergebnisse für jedes Modell berechnen\n",
    "lime_results_dict = {}\n",
    "\n",
    "for model_name, model_info in models_dict.items():\n",
    "    model = model_info['model']\n",
    "    lime_results = []\n",
    "\n",
    "    # Über alle Testdaten iterieren\n",
    "    for instance in X_test.values:\n",
    "        explanation = explainer.explain_instance(instance, model.predict_proba, num_features=len(X_test.columns))\n",
    "        lime_results.append(explanation.as_list())\n",
    "\n",
    "    lime_results_dict[model_name] = lime_results\n",
    "\n",
    "# Zeit stoppen\n",
    "lime_time = time.time() - start_time\n",
    "\n",
    "# Durchschnittliche LIME-Ergebnisse für jedes Modell berechnen\n",
    "average_lime_results = {}\n",
    "\n",
    "for model_name, lime_results in lime_results_dict.items():\n",
    "    average_weights = {}\n",
    "    for lime_result in lime_results:\n",
    "        for feature, weight in lime_result:\n",
    "            average_weights.setdefault(feature, []).append(weight)\n",
    "\n",
    "    average_lime_results[model_name] = [(feature, np.mean(weights)) for feature, weights in average_weights.items()]"
   ]
  },
  {
   "cell_type": "code",
   "execution_count": null,
   "metadata": {},
   "outputs": [],
   "source": [
    "# Dataframe für die aggregierten LIME-Ergebnisse\n",
    "lime_mean_df = pd.DataFrame()\n",
    "\n",
    "for model_name, lime_results in average_lime_results.items():\n",
    "    lime_mean_df[model_name] = [weight for feature, weight in lime_results]\n",
    "    \n",
    "    # Normalisieren der Werte, um sie vergleichbar zu machen\n",
    "    lime_mean_df[model_name] = lime_mean_df[model_name] / lime_mean_df[model_name].sum()\n",
    "\n",
    "lime_mean_df.index = [feature for feature, weight in lime_results]\n",
    "\n",
    "lime_mean_df = lime_mean_df.sort_values(by=list(lime_mean_df.columns), ascending=False)\n",
    "lime_mean_df"
   ]
  },
  {
   "cell_type": "code",
   "execution_count": null,
   "metadata": {},
   "outputs": [],
   "source": [
    "# Mapping von Indizes zu Features, um die Namen der Features in lime_mean_df anzupassen\n",
    "index_to_feature = {}\n",
    "for index in lime_mean_df.index:\n",
    "    for feature_name in X_test.columns:\n",
    "        if feature_name in str(index):\n",
    "            index_to_feature[index] = feature_name\n",
    "\n",
    "lime_mean_df.index = lime_mean_df.index.map(lambda x: index_to_feature.get(x, x))\n",
    "\n",
    "# Features werden aggregiert und normalisiert\n",
    "lime_mean_df = lime_mean_df.abs()\n",
    "lime_mean_df = lime_mean_df.groupby(lime_mean_df.index).sum()\n",
    "lime_mean_df = lime_mean_df / lime_mean_df.sum()\n",
    "\n",
    "lime_mean_df.head(10)"
   ]
  },
  {
   "cell_type": "markdown",
   "metadata": {},
   "source": [
    "# DICE\n",
    "- manipuliert die Werte einzelner Features (\"Counterfactuals\") und beobachtet Veränderungen\n",
    "- lokale Vorhersagen werden global gemittelt"
   ]
  },
  {
   "cell_type": "code",
   "execution_count": 9,
   "metadata": {},
   "outputs": [],
   "source": [
    "import dice_ml\n",
    "\n",
    "# Timer starten\n",
    "start_time = time.time()\n",
    "\n",
    "# One-Hot-Encoding für kategorische Variablen\n",
    "categorical = [feature for feature in X.columns if type(feature) not in ['bool', 'object', 'str']]\n",
    "continous_features = [feature for feature in X.filter(categorical) if X[feature].max() > 2]\n",
    "\n",
    "# Dataframe wird in ein Dice-Data-Objekt umgewandelt\n",
    "data_dice = dice_ml.Data(dataframe=df_enc, continuous_features=continous_features, outcome_name='Attrition_Flag')\n",
    "\n",
    "# Dictionary für die Dice-Modelle\n",
    "dice_models = {}\n",
    "\n",
    "for model_name, model_info in models_dict.items():\n",
    "    model = model_info['model']\n",
    "    dice_model = dice_ml.Model(model=model, backend='sklearn')\n",
    "    dice_models[model_name] = dice_model"
   ]
  },
  {
   "cell_type": "code",
   "execution_count": null,
   "metadata": {},
   "outputs": [],
   "source": [
    "# Sklearn-Warnungen unterdrücken\n",
    "def warn(*args, **kwargs):\n",
    "    pass\n",
    "\n",
    "import warnings\n",
    "warnings.warn = warn\n",
    "\n",
    "# Dataframe für die Dice-Ergebnisse\n",
    "dice_results_dict = {}\n",
    "\n",
    "for model_name, dice_model in dice_models.items():\n",
    "    explainer = dice_ml.Dice(data_dice, dice_model, method='random')\n",
    "    #cfs = explainer.generate_counterfactuals(X_test, total_CFs=3)\n",
    "    cfs = explainer.global_feature_importance(X_test, total_CFs=10, posthoc_sparsity_param=None)\n",
    "    dice_results_dict[model_name] = cfs.summary_importance\n",
    "\n",
    "# Zeit stoppen\n",
    "dice_time = time.time() - start_time"
   ]
  },
  {
   "cell_type": "code",
   "execution_count": null,
   "metadata": {},
   "outputs": [],
   "source": [
    "dice_mean_df = pd.DataFrame()\n",
    "\n",
    "for model_name, dice_results in dice_results_dict.items():\n",
    "    dice_mean_df[model_name] = dice_results\n",
    "    \n",
    "    # Normalisieren der Werte, um sie vergleichbar zu machen\n",
    "    dice_mean_df[model_name] = dice_mean_df[model_name] / dice_mean_df[model_name].sum()\n",
    "\n",
    "dice_mean_df.index = X_test.columns\n",
    "dice_mean_df = dice_mean_df.sort_values(by=list(dice_mean_df.columns), ascending=False)\n",
    "dice_mean_df.head(10)"
   ]
  },
  {
   "cell_type": "markdown",
   "metadata": {},
   "source": [
    "## Vergleich der Laufzeiten\n",
    "- SHAP führt mit Abstand, 10x so schnell wie LIME\n",
    "- DICE ca. 2x langsamer als LIME"
   ]
  },
  {
   "cell_type": "code",
   "execution_count": 17,
   "metadata": {},
   "outputs": [
    {
     "data": {
      "application/vnd.plotly.v1+json": {
       "config": {
        "plotlyServerURL": "https://plot.ly"
       },
       "data": [
        {
         "alignmentgroup": "True",
         "hovertemplate": "method=%{x}<br>time=%{y}<extra></extra>",
         "legendgroup": "",
         "marker": {
          "color": "#636efa",
          "pattern": {
           "shape": ""
          }
         },
         "name": "",
         "offsetgroup": "",
         "orientation": "v",
         "showlegend": false,
         "textposition": "auto",
         "type": "bar",
         "x": [
          "SHAP",
          "LIME",
          "Dice"
         ],
         "xaxis": "x",
         "y": [
          32.46364235877991,
          348.0155255794525,
          839.8846
         ],
         "yaxis": "y"
        }
       ],
       "layout": {
        "barmode": "relative",
        "legend": {
         "tracegroupgap": 0
        },
        "template": {
         "data": {
          "bar": [
           {
            "error_x": {
             "color": "#2a3f5f"
            },
            "error_y": {
             "color": "#2a3f5f"
            },
            "marker": {
             "line": {
              "color": "#E5ECF6",
              "width": 0.5
             },
             "pattern": {
              "fillmode": "overlay",
              "size": 10,
              "solidity": 0.2
             }
            },
            "type": "bar"
           }
          ],
          "barpolar": [
           {
            "marker": {
             "line": {
              "color": "#E5ECF6",
              "width": 0.5
             },
             "pattern": {
              "fillmode": "overlay",
              "size": 10,
              "solidity": 0.2
             }
            },
            "type": "barpolar"
           }
          ],
          "carpet": [
           {
            "aaxis": {
             "endlinecolor": "#2a3f5f",
             "gridcolor": "white",
             "linecolor": "white",
             "minorgridcolor": "white",
             "startlinecolor": "#2a3f5f"
            },
            "baxis": {
             "endlinecolor": "#2a3f5f",
             "gridcolor": "white",
             "linecolor": "white",
             "minorgridcolor": "white",
             "startlinecolor": "#2a3f5f"
            },
            "type": "carpet"
           }
          ],
          "choropleth": [
           {
            "colorbar": {
             "outlinewidth": 0,
             "ticks": ""
            },
            "type": "choropleth"
           }
          ],
          "contour": [
           {
            "colorbar": {
             "outlinewidth": 0,
             "ticks": ""
            },
            "colorscale": [
             [
              0,
              "#0d0887"
             ],
             [
              0.1111111111111111,
              "#46039f"
             ],
             [
              0.2222222222222222,
              "#7201a8"
             ],
             [
              0.3333333333333333,
              "#9c179e"
             ],
             [
              0.4444444444444444,
              "#bd3786"
             ],
             [
              0.5555555555555556,
              "#d8576b"
             ],
             [
              0.6666666666666666,
              "#ed7953"
             ],
             [
              0.7777777777777778,
              "#fb9f3a"
             ],
             [
              0.8888888888888888,
              "#fdca26"
             ],
             [
              1,
              "#f0f921"
             ]
            ],
            "type": "contour"
           }
          ],
          "contourcarpet": [
           {
            "colorbar": {
             "outlinewidth": 0,
             "ticks": ""
            },
            "type": "contourcarpet"
           }
          ],
          "heatmap": [
           {
            "colorbar": {
             "outlinewidth": 0,
             "ticks": ""
            },
            "colorscale": [
             [
              0,
              "#0d0887"
             ],
             [
              0.1111111111111111,
              "#46039f"
             ],
             [
              0.2222222222222222,
              "#7201a8"
             ],
             [
              0.3333333333333333,
              "#9c179e"
             ],
             [
              0.4444444444444444,
              "#bd3786"
             ],
             [
              0.5555555555555556,
              "#d8576b"
             ],
             [
              0.6666666666666666,
              "#ed7953"
             ],
             [
              0.7777777777777778,
              "#fb9f3a"
             ],
             [
              0.8888888888888888,
              "#fdca26"
             ],
             [
              1,
              "#f0f921"
             ]
            ],
            "type": "heatmap"
           }
          ],
          "heatmapgl": [
           {
            "colorbar": {
             "outlinewidth": 0,
             "ticks": ""
            },
            "colorscale": [
             [
              0,
              "#0d0887"
             ],
             [
              0.1111111111111111,
              "#46039f"
             ],
             [
              0.2222222222222222,
              "#7201a8"
             ],
             [
              0.3333333333333333,
              "#9c179e"
             ],
             [
              0.4444444444444444,
              "#bd3786"
             ],
             [
              0.5555555555555556,
              "#d8576b"
             ],
             [
              0.6666666666666666,
              "#ed7953"
             ],
             [
              0.7777777777777778,
              "#fb9f3a"
             ],
             [
              0.8888888888888888,
              "#fdca26"
             ],
             [
              1,
              "#f0f921"
             ]
            ],
            "type": "heatmapgl"
           }
          ],
          "histogram": [
           {
            "marker": {
             "pattern": {
              "fillmode": "overlay",
              "size": 10,
              "solidity": 0.2
             }
            },
            "type": "histogram"
           }
          ],
          "histogram2d": [
           {
            "colorbar": {
             "outlinewidth": 0,
             "ticks": ""
            },
            "colorscale": [
             [
              0,
              "#0d0887"
             ],
             [
              0.1111111111111111,
              "#46039f"
             ],
             [
              0.2222222222222222,
              "#7201a8"
             ],
             [
              0.3333333333333333,
              "#9c179e"
             ],
             [
              0.4444444444444444,
              "#bd3786"
             ],
             [
              0.5555555555555556,
              "#d8576b"
             ],
             [
              0.6666666666666666,
              "#ed7953"
             ],
             [
              0.7777777777777778,
              "#fb9f3a"
             ],
             [
              0.8888888888888888,
              "#fdca26"
             ],
             [
              1,
              "#f0f921"
             ]
            ],
            "type": "histogram2d"
           }
          ],
          "histogram2dcontour": [
           {
            "colorbar": {
             "outlinewidth": 0,
             "ticks": ""
            },
            "colorscale": [
             [
              0,
              "#0d0887"
             ],
             [
              0.1111111111111111,
              "#46039f"
             ],
             [
              0.2222222222222222,
              "#7201a8"
             ],
             [
              0.3333333333333333,
              "#9c179e"
             ],
             [
              0.4444444444444444,
              "#bd3786"
             ],
             [
              0.5555555555555556,
              "#d8576b"
             ],
             [
              0.6666666666666666,
              "#ed7953"
             ],
             [
              0.7777777777777778,
              "#fb9f3a"
             ],
             [
              0.8888888888888888,
              "#fdca26"
             ],
             [
              1,
              "#f0f921"
             ]
            ],
            "type": "histogram2dcontour"
           }
          ],
          "mesh3d": [
           {
            "colorbar": {
             "outlinewidth": 0,
             "ticks": ""
            },
            "type": "mesh3d"
           }
          ],
          "parcoords": [
           {
            "line": {
             "colorbar": {
              "outlinewidth": 0,
              "ticks": ""
             }
            },
            "type": "parcoords"
           }
          ],
          "pie": [
           {
            "automargin": true,
            "type": "pie"
           }
          ],
          "scatter": [
           {
            "fillpattern": {
             "fillmode": "overlay",
             "size": 10,
             "solidity": 0.2
            },
            "type": "scatter"
           }
          ],
          "scatter3d": [
           {
            "line": {
             "colorbar": {
              "outlinewidth": 0,
              "ticks": ""
             }
            },
            "marker": {
             "colorbar": {
              "outlinewidth": 0,
              "ticks": ""
             }
            },
            "type": "scatter3d"
           }
          ],
          "scattercarpet": [
           {
            "marker": {
             "colorbar": {
              "outlinewidth": 0,
              "ticks": ""
             }
            },
            "type": "scattercarpet"
           }
          ],
          "scattergeo": [
           {
            "marker": {
             "colorbar": {
              "outlinewidth": 0,
              "ticks": ""
             }
            },
            "type": "scattergeo"
           }
          ],
          "scattergl": [
           {
            "marker": {
             "colorbar": {
              "outlinewidth": 0,
              "ticks": ""
             }
            },
            "type": "scattergl"
           }
          ],
          "scattermapbox": [
           {
            "marker": {
             "colorbar": {
              "outlinewidth": 0,
              "ticks": ""
             }
            },
            "type": "scattermapbox"
           }
          ],
          "scatterpolar": [
           {
            "marker": {
             "colorbar": {
              "outlinewidth": 0,
              "ticks": ""
             }
            },
            "type": "scatterpolar"
           }
          ],
          "scatterpolargl": [
           {
            "marker": {
             "colorbar": {
              "outlinewidth": 0,
              "ticks": ""
             }
            },
            "type": "scatterpolargl"
           }
          ],
          "scatterternary": [
           {
            "marker": {
             "colorbar": {
              "outlinewidth": 0,
              "ticks": ""
             }
            },
            "type": "scatterternary"
           }
          ],
          "surface": [
           {
            "colorbar": {
             "outlinewidth": 0,
             "ticks": ""
            },
            "colorscale": [
             [
              0,
              "#0d0887"
             ],
             [
              0.1111111111111111,
              "#46039f"
             ],
             [
              0.2222222222222222,
              "#7201a8"
             ],
             [
              0.3333333333333333,
              "#9c179e"
             ],
             [
              0.4444444444444444,
              "#bd3786"
             ],
             [
              0.5555555555555556,
              "#d8576b"
             ],
             [
              0.6666666666666666,
              "#ed7953"
             ],
             [
              0.7777777777777778,
              "#fb9f3a"
             ],
             [
              0.8888888888888888,
              "#fdca26"
             ],
             [
              1,
              "#f0f921"
             ]
            ],
            "type": "surface"
           }
          ],
          "table": [
           {
            "cells": {
             "fill": {
              "color": "#EBF0F8"
             },
             "line": {
              "color": "white"
             }
            },
            "header": {
             "fill": {
              "color": "#C8D4E3"
             },
             "line": {
              "color": "white"
             }
            },
            "type": "table"
           }
          ]
         },
         "layout": {
          "annotationdefaults": {
           "arrowcolor": "#2a3f5f",
           "arrowhead": 0,
           "arrowwidth": 1
          },
          "autotypenumbers": "strict",
          "coloraxis": {
           "colorbar": {
            "outlinewidth": 0,
            "ticks": ""
           }
          },
          "colorscale": {
           "diverging": [
            [
             0,
             "#8e0152"
            ],
            [
             0.1,
             "#c51b7d"
            ],
            [
             0.2,
             "#de77ae"
            ],
            [
             0.3,
             "#f1b6da"
            ],
            [
             0.4,
             "#fde0ef"
            ],
            [
             0.5,
             "#f7f7f7"
            ],
            [
             0.6,
             "#e6f5d0"
            ],
            [
             0.7,
             "#b8e186"
            ],
            [
             0.8,
             "#7fbc41"
            ],
            [
             0.9,
             "#4d9221"
            ],
            [
             1,
             "#276419"
            ]
           ],
           "sequential": [
            [
             0,
             "#0d0887"
            ],
            [
             0.1111111111111111,
             "#46039f"
            ],
            [
             0.2222222222222222,
             "#7201a8"
            ],
            [
             0.3333333333333333,
             "#9c179e"
            ],
            [
             0.4444444444444444,
             "#bd3786"
            ],
            [
             0.5555555555555556,
             "#d8576b"
            ],
            [
             0.6666666666666666,
             "#ed7953"
            ],
            [
             0.7777777777777778,
             "#fb9f3a"
            ],
            [
             0.8888888888888888,
             "#fdca26"
            ],
            [
             1,
             "#f0f921"
            ]
           ],
           "sequentialminus": [
            [
             0,
             "#0d0887"
            ],
            [
             0.1111111111111111,
             "#46039f"
            ],
            [
             0.2222222222222222,
             "#7201a8"
            ],
            [
             0.3333333333333333,
             "#9c179e"
            ],
            [
             0.4444444444444444,
             "#bd3786"
            ],
            [
             0.5555555555555556,
             "#d8576b"
            ],
            [
             0.6666666666666666,
             "#ed7953"
            ],
            [
             0.7777777777777778,
             "#fb9f3a"
            ],
            [
             0.8888888888888888,
             "#fdca26"
            ],
            [
             1,
             "#f0f921"
            ]
           ]
          },
          "colorway": [
           "#636efa",
           "#EF553B",
           "#00cc96",
           "#ab63fa",
           "#FFA15A",
           "#19d3f3",
           "#FF6692",
           "#B6E880",
           "#FF97FF",
           "#FECB52"
          ],
          "font": {
           "color": "#2a3f5f"
          },
          "geo": {
           "bgcolor": "white",
           "lakecolor": "white",
           "landcolor": "#E5ECF6",
           "showlakes": true,
           "showland": true,
           "subunitcolor": "white"
          },
          "hoverlabel": {
           "align": "left"
          },
          "hovermode": "closest",
          "mapbox": {
           "style": "light"
          },
          "paper_bgcolor": "white",
          "plot_bgcolor": "#E5ECF6",
          "polar": {
           "angularaxis": {
            "gridcolor": "white",
            "linecolor": "white",
            "ticks": ""
           },
           "bgcolor": "#E5ECF6",
           "radialaxis": {
            "gridcolor": "white",
            "linecolor": "white",
            "ticks": ""
           }
          },
          "scene": {
           "xaxis": {
            "backgroundcolor": "#E5ECF6",
            "gridcolor": "white",
            "gridwidth": 2,
            "linecolor": "white",
            "showbackground": true,
            "ticks": "",
            "zerolinecolor": "white"
           },
           "yaxis": {
            "backgroundcolor": "#E5ECF6",
            "gridcolor": "white",
            "gridwidth": 2,
            "linecolor": "white",
            "showbackground": true,
            "ticks": "",
            "zerolinecolor": "white"
           },
           "zaxis": {
            "backgroundcolor": "#E5ECF6",
            "gridcolor": "white",
            "gridwidth": 2,
            "linecolor": "white",
            "showbackground": true,
            "ticks": "",
            "zerolinecolor": "white"
           }
          },
          "shapedefaults": {
           "line": {
            "color": "#2a3f5f"
           }
          },
          "ternary": {
           "aaxis": {
            "gridcolor": "white",
            "linecolor": "white",
            "ticks": ""
           },
           "baxis": {
            "gridcolor": "white",
            "linecolor": "white",
            "ticks": ""
           },
           "bgcolor": "#E5ECF6",
           "caxis": {
            "gridcolor": "white",
            "linecolor": "white",
            "ticks": ""
           }
          },
          "title": {
           "x": 0.05
          },
          "xaxis": {
           "automargin": true,
           "gridcolor": "white",
           "linecolor": "white",
           "ticks": "",
           "title": {
            "standoff": 15
           },
           "zerolinecolor": "white",
           "zerolinewidth": 2
          },
          "yaxis": {
           "automargin": true,
           "gridcolor": "white",
           "linecolor": "white",
           "ticks": "",
           "title": {
            "standoff": 15
           },
           "zerolinecolor": "white",
           "zerolinewidth": 2
          }
         }
        },
        "title": {
         "text": "Vergleich der Laufzeiten"
        },
        "xaxis": {
         "anchor": "y",
         "domain": [
          0,
          1
         ],
         "title": {
          "text": "method"
         }
        },
        "yaxis": {
         "anchor": "x",
         "domain": [
          0,
          1
         ],
         "title": {
          "text": "time"
         }
        }
       }
      }
     },
     "metadata": {},
     "output_type": "display_data"
    }
   ],
   "source": [
    "time_df = pd.DataFrame({\n",
    "    'time': [shap_time, lime_time, dice_time],\n",
    "    'method': ['SHAP', 'LIME', 'Dice'],\n",
    "})\n",
    "\n",
    "time_fig = px.bar(time_df, x='method', y='time', title='Vergleich der Laufzeiten')\n",
    "time_fig.show()\n",
    "\n",
    "# Abspeichern der Grafik\n",
    "time_fig.write_html(\"Images/runtime_comparison.html\")"
   ]
  },
  {
   "cell_type": "markdown",
   "metadata": {},
   "source": [
    "## Visualisierung der Modellergebnisse\n",
    "- Vorhersagen sind zwischen den verglichenen Modellen relativ einheitlich\n",
    "- SHAP und LIME sagen relativ ähnliche Feature Importances für die größten Einflüsse heraus\n",
    "- Features mit weniger Einfluss werden von SHAP und LIME teilweise anders gerankt\n",
    "- DICE sagt komplett andere Features als einflussreich vorher, hier vor allem Geschlecht und Abschluss\n",
    "- Vermutung: Generierte Counterfactuals sind besonders besonders unplausibel/unrealistisch und verwirren das Modell"
   ]
  },
  {
   "cell_type": "code",
   "execution_count": null,
   "metadata": {},
   "outputs": [],
   "source": [
    "# Füge die Dataframes zusammen\n",
    "result_df = pd.concat([shap_mean_df.assign(Method='SHAP'), lime_mean_df.assign(Method='LIME')], axis=0)\n",
    "result_df = pd.concat([result_df, dice_mean_df.assign(Method='DICE')], axis=0).reset_index().rename(columns={'index': 'Feature'})\n",
    "\n",
    "# Schmelze die Dataframes für die Visualisierung\n",
    "result_df = result_df.melt(id_vars=['Feature', 'Method'], var_name='Model', value_name='Feature Importance')\n",
    "result_df"
   ]
  },
  {
   "cell_type": "code",
   "execution_count": 19,
   "metadata": {},
   "outputs": [
    {
     "data": {
      "application/vnd.plotly.v1+json": {
       "config": {
        "plotlyServerURL": "https://plot.ly"
       },
       "data": [
        {
         "alignmentgroup": "True",
         "hovertemplate": "Method=SHAP<br>Model=GradientBoosting<br>Feature Importance=%{x}<br>Feature=%{y}<extra></extra>",
         "legendgroup": "SHAP",
         "marker": {
          "color": "#636efa",
          "pattern": {
           "shape": ""
          }
         },
         "name": "SHAP",
         "offsetgroup": "SHAP",
         "orientation": "h",
         "showlegend": true,
         "textposition": "auto",
         "type": "bar",
         "x": [
          0,
          0,
          0,
          0,
          0,
          0,
          0,
          0,
          0,
          0,
          0,
          0,
          0,
          0,
          0,
          0.0000013288534079078844,
          0.000006040057013792693,
          0.00006886169878202797,
          0.00009975341099771963,
          0.0001786208695223613,
          0.0006342709495676111,
          0.0006469809262260101,
          0.002808135757772042,
          0.0036551559306649242,
          0.004648658045308975,
          0.0053235338256942535,
          0.006312863468710476,
          0.008757345361323455,
          0.019908507559104737,
          0.032359875421961955,
          0.05256561206422765,
          0.056798115397780326,
          0.057001008058850174,
          0.07659521284488804,
          0.14019312412776794,
          0.1986259355747764,
          0.33281105979565134
         ],
         "xaxis": "x",
         "y": [
          "Education_Level_College",
          "Marital_Status_Divorced",
          "Card_Category_Silver",
          "Income_Category_$120K +",
          "Income_Category_Unknown",
          "Education_Level_Post-Graduate",
          "Card_Category_Blue",
          "Education_Level_Doctorate",
          "Education_Level_High School",
          "Marital_Status_Unknown",
          "Income_Category_$40K - $60K",
          "Income_Category_$80K - $120K",
          "Education_Level_Unknown",
          "Income_Category_Less than $40K",
          "Dependent_count",
          "Education_Level_Uneducated",
          "Education_Level_Graduate",
          "Income_Category_$60K - $80K",
          "Card_Category_Gold",
          "Card_Category_Platinum",
          "Avg_Utilization_Ratio",
          "Marital_Status_Single",
          "Gender_F",
          "Gender_M",
          "Marital_Status_Married",
          "Months_on_book",
          "Avg_Open_To_Buy",
          "Credit_Limit",
          "Customer_Age",
          "Contacts_Count_12_mon",
          "Total_Relationship_Count",
          "Total_Amt_Chng_Q4_Q1",
          "Months_Inactive_12_mon",
          "Total_Ct_Chng_Q4_Q1",
          "Total_Revolving_Bal",
          "Total_Trans_Amt",
          "Total_Trans_Ct"
         ],
         "yaxis": "y"
        },
        {
         "alignmentgroup": "True",
         "hovertemplate": "Method=SHAP<br>Model=RandomForest<br>Feature Importance=%{x}<br>Feature=%{y}<extra></extra>",
         "legendgroup": "SHAP",
         "marker": {
          "color": "#636efa",
          "pattern": {
           "shape": ""
          }
         },
         "name": "SHAP",
         "offsetgroup": "SHAP",
         "orientation": "h",
         "showlegend": false,
         "textposition": "auto",
         "type": "bar",
         "x": [
          0.00006615742534535788,
          0.0004022340939726675,
          0.0012242636841394037,
          0.001364782789305335,
          0.0013958031076436496,
          0.0014302963074895377,
          0.0015706229482048944,
          0.0017552317368150013,
          0.0017556610486055711,
          0.0018447410993434506,
          0.0018488555418865271,
          0.0018694822462840483,
          0.0019072207957878695,
          0.0019335486511582772,
          0.0024280123531797,
          0.0025020999761978377,
          0.002614637542285942,
          0.002826372763438841,
          0.003032925231160678,
          0.004665896347235068,
          0.007464075012378517,
          0.0080073716879467,
          0.008284775960903433,
          0.008435067263559649,
          0.010630880349124508,
          0.014705287597394773,
          0.017157602137976014,
          0.023117919361022393,
          0.023478978382314296,
          0.03841268728310164,
          0.042290332354173794,
          0.04628568798469629,
          0.08908930861936058,
          0.0983897916378355,
          0.1383816365318434,
          0.15782385946941757,
          0.22960589267747133
         ],
         "xaxis": "x2",
         "y": [
          "Card_Category_Platinum",
          "Card_Category_Gold",
          "Education_Level_College",
          "Marital_Status_Divorced",
          "Card_Category_Silver",
          "Income_Category_$120K +",
          "Income_Category_Unknown",
          "Education_Level_Post-Graduate",
          "Education_Level_Uneducated",
          "Card_Category_Blue",
          "Education_Level_Doctorate",
          "Education_Level_High School",
          "Marital_Status_Unknown",
          "Income_Category_$40K - $60K",
          "Education_Level_Graduate",
          "Income_Category_$80K - $120K",
          "Education_Level_Unknown",
          "Income_Category_Less than $40K",
          "Income_Category_$60K - $80K",
          "Marital_Status_Single",
          "Marital_Status_Married",
          "Dependent_count",
          "Gender_M",
          "Months_on_book",
          "Gender_F",
          "Customer_Age",
          "Avg_Open_To_Buy",
          "Credit_Limit",
          "Contacts_Count_12_mon",
          "Total_Amt_Chng_Q4_Q1",
          "Months_Inactive_12_mon",
          "Avg_Utilization_Ratio",
          "Total_Relationship_Count",
          "Total_Ct_Chng_Q4_Q1",
          "Total_Trans_Amt",
          "Total_Revolving_Bal",
          "Total_Trans_Ct"
         ],
         "yaxis": "y2"
        },
        {
         "alignmentgroup": "True",
         "hovertemplate": "Method=SHAP<br>Model=DecisionTree<br>Feature Importance=%{x}<br>Feature=%{y}<extra></extra>",
         "legendgroup": "SHAP",
         "marker": {
          "color": "#636efa",
          "pattern": {
           "shape": ""
          }
         },
         "name": "SHAP",
         "offsetgroup": "SHAP",
         "orientation": "h",
         "showlegend": false,
         "textposition": "auto",
         "type": "bar",
         "x": [
          0,
          0,
          0,
          0.00018069290768238415,
          0.00021353579307230574,
          0.0002505273181997522,
          0.00036230685407824466,
          0.0003707542796595704,
          0.0004820537888899165,
          0.0008307111051612467,
          0.000836886685210171,
          0.0008702194390331509,
          0.0009994400409261749,
          0.001023059597985998,
          0.0011624138290996706,
          0.0011873040816370965,
          0.0012837643455454449,
          0.0021302557668557024,
          0.002130559416010024,
          0.002191511360812136,
          0.0022425072403827436,
          0.0026533365620356624,
          0.0027881867644042133,
          0.005669643805221293,
          0.0069400337921583875,
          0.007112889550404385,
          0.011237359107964731,
          0.015126800781136976,
          0.018811163201797255,
          0.02367935905315307,
          0.02816710142606727,
          0.03235179100673396,
          0.06892386478143646,
          0.08459665064073313,
          0.138748986640558,
          0.17736585992578444,
          0.3570784691101689
         ],
         "xaxis": "x3",
         "y": [
          "Education_Level_Unknown",
          "Card_Category_Blue",
          "Gender_F",
          "Income_Category_$120K +",
          "Education_Level_College",
          "Marital_Status_Divorced",
          "Income_Category_Less than $40K",
          "Card_Category_Gold",
          "Income_Category_$80K - $120K",
          "Income_Category_Unknown",
          "Card_Category_Platinum",
          "Education_Level_Post-Graduate",
          "Education_Level_Graduate",
          "Education_Level_Doctorate",
          "Education_Level_High School",
          "Gender_M",
          "Marital_Status_Single",
          "Card_Category_Silver",
          "Education_Level_Uneducated",
          "Income_Category_$60K - $80K",
          "Income_Category_$40K - $60K",
          "Dependent_count",
          "Marital_Status_Married",
          "Marital_Status_Unknown",
          "Months_on_book",
          "Avg_Utilization_Ratio",
          "Avg_Open_To_Buy",
          "Contacts_Count_12_mon",
          "Credit_Limit",
          "Months_Inactive_12_mon",
          "Customer_Age",
          "Total_Amt_Chng_Q4_Q1",
          "Total_Ct_Chng_Q4_Q1",
          "Total_Relationship_Count",
          "Total_Revolving_Bal",
          "Total_Trans_Amt",
          "Total_Trans_Ct"
         ],
         "yaxis": "y3"
        },
        {
         "alignmentgroup": "True",
         "hovertemplate": "Method=LIME<br>Model=GradientBoosting<br>Feature Importance=%{x}<br>Feature=%{y}<extra></extra>",
         "legendgroup": "LIME",
         "marker": {
          "color": "#EF553B",
          "pattern": {
           "shape": ""
          }
         },
         "name": "LIME",
         "offsetgroup": "LIME",
         "orientation": "h",
         "showlegend": true,
         "textposition": "auto",
         "type": "bar",
         "x": [
          0,
          0.000057553985839044705,
          0.00008069134466767659,
          0.0001587916892126074,
          0.000163420157699711,
          0.00017435031419366467,
          0.0001876573169806642,
          0.0002446420296376433,
          0.0003361385440764834,
          0.0003560174704779127,
          0.00038321269106684434,
          0.00045108823926344645,
          0.00048605543883028195,
          0.0005960895474639346,
          0.0006256753630496647,
          0.0006296496516540692,
          0.0007767263331818695,
          0.000831967122333314,
          0.000880919624918646,
          0.0010205779061468227,
          0.0010536380903374333,
          0.0012086706989868881,
          0.0026782617610203543,
          0.002823545676938537,
          0.0033611029578967722,
          0.004500360215875465,
          0.00568191218367272,
          0.008463901354272116,
          0.014812537575773634,
          0.02726624287736808,
          0.03276533826321691,
          0.05453109101566426,
          0.06745801659278654,
          0.08459986545501728,
          0.11750698772842166,
          0.23809249077143077,
          0.32475481201062634
         ],
         "xaxis": "x",
         "y": [
          "Card_Category_Blue",
          "Income_Category_$40K - $60K",
          "Education_Level_High School",
          "Income_Category_$60K - $80K",
          "Education_Level_Graduate",
          "Income_Category_Less than $40K",
          "Card_Category_Silver",
          "Education_Level_Uneducated",
          "Income_Category_$120K +",
          "Income_Category_$80K - $120K",
          "Marital_Status_Unknown",
          "Education_Level_College",
          "Education_Level_Unknown",
          "Dependent_count",
          "Education_Level_Post-Graduate",
          "Marital_Status_Single",
          "Marital_Status_Divorced",
          "Avg_Utilization_Ratio",
          "Education_Level_Doctorate",
          "Gender_M",
          "Gender_F",
          "Income_Category_Unknown",
          "Marital_Status_Married",
          "Months_on_book",
          "Avg_Open_To_Buy",
          "Credit_Limit",
          "Card_Category_Gold",
          "Customer_Age",
          "Contacts_Count_12_mon",
          "Total_Amt_Chng_Q4_Q1",
          "Card_Category_Platinum",
          "Months_Inactive_12_mon",
          "Total_Ct_Chng_Q4_Q1",
          "Total_Relationship_Count",
          "Total_Revolving_Bal",
          "Total_Trans_Amt",
          "Total_Trans_Ct"
         ],
         "yaxis": "y"
        },
        {
         "alignmentgroup": "True",
         "hovertemplate": "Method=LIME<br>Model=RandomForest<br>Feature Importance=%{x}<br>Feature=%{y}<extra></extra>",
         "legendgroup": "LIME",
         "marker": {
          "color": "#EF553B",
          "pattern": {
           "shape": ""
          }
         },
         "name": "LIME",
         "offsetgroup": "LIME",
         "orientation": "h",
         "showlegend": false,
         "textposition": "auto",
         "type": "bar",
         "x": [
          0,
          0.0003828645636716339,
          0.00044257284830719756,
          0.0005873276527372302,
          0.0010662886922253258,
          0.0014989205319259297,
          0.0017172318644775597,
          0.0018081519774979411,
          0.002318922130019597,
          0.0027778059097220403,
          0.0029872635811704937,
          0.0032066286427349317,
          0.003468231085745838,
          0.003866254468608105,
          0.0051032382177003946,
          0.0053253670640141006,
          0.005465709942218186,
          0.006392986642735942,
          0.006519681336194003,
          0.006568760148103074,
          0.007645437907949099,
          0.008439760364892678,
          0.009694681294414906,
          0.012442926949132283,
          0.012740577134488127,
          0.014616603621720044,
          0.016239584323750188,
          0.01988657592346979,
          0.019996461249816157,
          0.02800778970487278,
          0.030099406622676968,
          0.0397363225576541,
          0.07435373869443271,
          0.08571450264462546,
          0.1227667836208102,
          0.1720111445274127,
          0.2641034955580722
         ],
         "xaxis": "x2",
         "y": [
          "Card_Category_Blue",
          "Education_Level_Graduate",
          "Income_Category_Less than $40K",
          "Income_Category_$60K - $80K",
          "Income_Category_Unknown",
          "Gender_F",
          "Education_Level_Unknown",
          "Education_Level_College",
          "Marital_Status_Married",
          "Customer_Age",
          "Credit_Limit",
          "Marital_Status_Single",
          "Income_Category_$120K +",
          "Education_Level_High School",
          "Education_Level_Post-Graduate",
          "Income_Category_$40K - $60K",
          "Card_Category_Gold",
          "Gender_M",
          "Months_on_book",
          "Education_Level_Uneducated",
          "Avg_Open_To_Buy",
          "Dependent_count",
          "Card_Category_Silver",
          "Avg_Utilization_Ratio",
          "Income_Category_$80K - $120K",
          "Contacts_Count_12_mon",
          "Education_Level_Doctorate",
          "Marital_Status_Divorced",
          "Marital_Status_Unknown",
          "Total_Amt_Chng_Q4_Q1",
          "Card_Category_Platinum",
          "Months_Inactive_12_mon",
          "Total_Ct_Chng_Q4_Q1",
          "Total_Relationship_Count",
          "Total_Revolving_Bal",
          "Total_Trans_Amt",
          "Total_Trans_Ct"
         ],
         "yaxis": "y2"
        },
        {
         "alignmentgroup": "True",
         "hovertemplate": "Method=LIME<br>Model=DecisionTree<br>Feature Importance=%{x}<br>Feature=%{y}<extra></extra>",
         "legendgroup": "LIME",
         "marker": {
          "color": "#EF553B",
          "pattern": {
           "shape": ""
          }
         },
         "name": "LIME",
         "offsetgroup": "LIME",
         "orientation": "h",
         "showlegend": false,
         "textposition": "auto",
         "type": "bar",
         "x": [
          0,
          0.0003623615177057708,
          0.0005603402325230766,
          0.0006707774531513175,
          0.0007559581642042455,
          0.0008307440958728604,
          0.0008578067067325851,
          0.0008617723188878471,
          0.0010138703359738525,
          0.001140476214957798,
          0.0020053565912001793,
          0.0024396903492908727,
          0.0025337161290008184,
          0.0028743189732946227,
          0.0031299405688646888,
          0.0032964204106032827,
          0.0033398244660298526,
          0.0037509430553010967,
          0.005142834911543157,
          0.006102098722776975,
          0.0064083013783221955,
          0.007619037808652703,
          0.009987677192642222,
          0.010108271833480887,
          0.010428883077971523,
          0.011367253237083102,
          0.013584757752179774,
          0.01653260660588127,
          0.016707510371695086,
          0.028256172509539938,
          0.03767121932481198,
          0.04494917512112011,
          0.06252126062483361,
          0.07079342009453064,
          0.08462468820807718,
          0.14689718473876917,
          0.37987332890249376
         ],
         "xaxis": "x3",
         "y": [
          "Card_Category_Blue",
          "Gender_M",
          "Education_Level_Graduate",
          "Income_Category_$80K - $120K",
          "Marital_Status_Married",
          "Dependent_count",
          "Income_Category_$40K - $60K",
          "Income_Category_$60K - $80K",
          "Income_Category_Unknown",
          "Marital_Status_Single",
          "Education_Level_Post-Graduate",
          "Education_Level_Uneducated",
          "Gender_F",
          "Avg_Open_To_Buy",
          "Education_Level_College",
          "Education_Level_Unknown",
          "Avg_Utilization_Ratio",
          "Education_Level_High School",
          "Income_Category_$120K +",
          "Customer_Age",
          "Income_Category_Less than $40K",
          "Months_on_book",
          "Contacts_Count_12_mon",
          "Credit_Limit",
          "Marital_Status_Divorced",
          "Months_Inactive_12_mon",
          "Card_Category_Silver",
          "Education_Level_Doctorate",
          "Card_Category_Gold",
          "Total_Amt_Chng_Q4_Q1",
          "Total_Ct_Chng_Q4_Q1",
          "Total_Relationship_Count",
          "Marital_Status_Unknown",
          "Card_Category_Platinum",
          "Total_Revolving_Bal",
          "Total_Trans_Amt",
          "Total_Trans_Ct"
         ],
         "yaxis": "y3"
        },
        {
         "alignmentgroup": "True",
         "hovertemplate": "Method=DICE<br>Model=GradientBoosting<br>Feature Importance=%{x}<br>Feature=%{y}<extra></extra>",
         "legendgroup": "DICE",
         "marker": {
          "color": "#00cc96",
          "pattern": {
           "shape": ""
          }
         },
         "name": "DICE",
         "offsetgroup": "DICE",
         "orientation": "h",
         "showlegend": true,
         "textposition": "auto",
         "type": "bar",
         "x": [
          0.006199558770141584,
          0.006534670055014102,
          0.006813929459074534,
          0.0068977072802926635,
          0.00695355916110475,
          0.007009411041916837,
          0.007065262922728923,
          0.007093188863134966,
          0.007149040743947052,
          0.007149040743947052,
          0.007176966684353096,
          0.007288670445977268,
          0.007344522326789355,
          0.007344522326789355,
          0.0074283001480074835,
          0.0076237817308497866,
          0.007651707671255829,
          0.007791337373286045,
          0.00793096707531626,
          0.008098522717752521,
          0.008098522717752521,
          0.008573263704655254,
          0.011337931804853528,
          0.011980228434192521,
          0.014242229607082019,
          0.014298081487894104,
          0.014605266832360578,
          0.017844675919461588,
          0.01795637968108576,
          0.028540311094976123,
          0.032924683738724904,
          0.036108240945013824,
          0.03987824289982965,
          0.04831187690245469,
          0.13711636739367197,
          0.1806808344270993,
          0.23295819486721217
         ],
         "xaxis": "x",
         "y": [
          "Total_Revolving_Bal",
          "Card_Category_Gold",
          "Income_Category_$60K - $80K",
          "Avg_Utilization_Ratio",
          "Dependent_count",
          "Total_Relationship_Count",
          "Income_Category_Unknown",
          "Income_Category_$80K - $120K",
          "Months_on_book",
          "Months_Inactive_12_mon",
          "Total_Trans_Amt",
          "Contacts_Count_12_mon",
          "Card_Category_Silver",
          "Card_Category_Blue",
          "Card_Category_Platinum",
          "Avg_Open_To_Buy",
          "Credit_Limit",
          "Total_Ct_Chng_Q4_Q1",
          "Income_Category_$40K - $60K",
          "Total_Trans_Ct",
          "Total_Amt_Chng_Q4_Q1",
          "Customer_Age",
          "Income_Category_Less than $40K",
          "Income_Category_$120K +",
          "Education_Level_High School",
          "Marital_Status_Married",
          "Marital_Status_Divorced",
          "Marital_Status_Unknown",
          "Marital_Status_Single",
          "Education_Level_Uneducated",
          "Education_Level_Unknown",
          "Education_Level_Doctorate",
          "Education_Level_Post-Graduate",
          "Education_Level_Graduate",
          "Gender_F",
          "Gender_M",
          "Education_Level_College"
         ],
         "yaxis": "y"
        },
        {
         "alignmentgroup": "True",
         "hovertemplate": "Method=DICE<br>Model=RandomForest<br>Feature Importance=%{x}<br>Feature=%{y}<extra></extra>",
         "legendgroup": "DICE",
         "marker": {
          "color": "#00cc96",
          "pattern": {
           "shape": ""
          }
         },
         "name": "DICE",
         "offsetgroup": "DICE",
         "orientation": "h",
         "showlegend": false,
         "textposition": "auto",
         "type": "bar",
         "x": [
          0.008479013937001532,
          0.008519294288246194,
          0.008640135341980184,
          0.00872069604446951,
          0.008760976395714173,
          0.00886167727382583,
          0.008962378151937487,
          0.009042938854426813,
          0.009183920083783133,
          0.009224200435027795,
          0.009244340610650128,
          0.009365181664384116,
          0.009365181664384116,
          0.00942560219125111,
          0.009687424474341419,
          0.009707564649963751,
          0.009808265528075408,
          0.009828405703697739,
          0.009929106581809396,
          0.010090227986788047,
          0.010090227986788047,
          0.010915975187303636,
          0.011580600982840574,
          0.014782888906791272,
          0.019757512285507137,
          0.02070410053975671,
          0.02463143478611134,
          0.02968661886731653,
          0.032828486264400235,
          0.037480866833158794,
          0.041508901957625084,
          0.041529042133247415,
          0.056936276484330965,
          0.07049061467816002,
          0.07502215419318459,
          0.15167566261177803,
          0.16553210343994204
         ],
         "xaxis": "x2",
         "y": [
          "Avg_Utilization_Ratio",
          "Total_Ct_Chng_Q4_Q1",
          "Total_Trans_Ct",
          "Total_Trans_Amt",
          "Total_Amt_Chng_Q4_Q1",
          "Avg_Open_To_Buy",
          "Total_Revolving_Bal",
          "Credit_Limit",
          "Contacts_Count_12_mon",
          "Months_Inactive_12_mon",
          "Total_Relationship_Count",
          "Dependent_count",
          "Months_on_book",
          "Customer_Age",
          "Card_Category_Silver",
          "Card_Category_Platinum",
          "Card_Category_Gold",
          "Card_Category_Blue",
          "Income_Category_Unknown",
          "Income_Category_$80K - $120K",
          "Income_Category_Less than $40K",
          "Income_Category_$60K - $80K",
          "Income_Category_$40K - $60K",
          "Income_Category_$120K +",
          "Marital_Status_Unknown",
          "Marital_Status_Single",
          "Marital_Status_Married",
          "Marital_Status_Divorced",
          "Education_Level_Unknown",
          "Education_Level_Uneducated",
          "Education_Level_Post-Graduate",
          "Education_Level_High School",
          "Education_Level_Graduate",
          "Education_Level_Doctorate",
          "Education_Level_College",
          "Gender_M",
          "Gender_F"
         ],
         "yaxis": "y2"
        },
        {
         "alignmentgroup": "True",
         "hovertemplate": "Method=DICE<br>Model=DecisionTree<br>Feature Importance=%{x}<br>Feature=%{y}<extra></extra>",
         "legendgroup": "DICE",
         "marker": {
          "color": "#00cc96",
          "pattern": {
           "shape": ""
          }
         },
         "name": "DICE",
         "offsetgroup": "DICE",
         "orientation": "h",
         "showlegend": false,
         "textposition": "auto",
         "type": "bar",
         "x": [
          0.006307807955028273,
          0.0066019544399777775,
          0.0066019544399777775,
          0.006667320325522113,
          0.0067000032682942795,
          0.006896100924927283,
          0.006961466810471617,
          0.007026832696015952,
          0.007026832696015952,
          0.007059515638788119,
          0.00715756446710462,
          0.00715756446710462,
          0.007222930352648956,
          0.007353662123737624,
          0.007451710952054126,
          0.0076151256659149616,
          0.007647808608687128,
          0.007680491551459296,
          0.00774585743700363,
          0.0078765892080923,
          0.0079746380364088,
          0.010393175801549175,
          0.011798542340752366,
          0.016243422557767107,
          0.018171716181324973,
          0.01846586266627448,
          0.01938098506389516,
          0.02470830473575842,
          0.026800013073177118,
          0.032584893943850717,
          0.039611726639866666,
          0.04212831323332354,
          0.05186783017942938,
          0.07173905938490704,
          0.10909566297349418,
          0.1612903225806452,
          0.19498643657874964
         ],
         "xaxis": "x3",
         "y": [
          "Dependent_count",
          "Income_Category_$40K - $60K",
          "Total_Trans_Ct",
          "Months_on_book",
          "Income_Category_Unknown",
          "Total_Amt_Chng_Q4_Q1",
          "Avg_Open_To_Buy",
          "Contacts_Count_12_mon",
          "Card_Category_Blue",
          "Card_Category_Platinum",
          "Months_Inactive_12_mon",
          "Avg_Utilization_Ratio",
          "Income_Category_$60K - $80K",
          "Total_Relationship_Count",
          "Total_Revolving_Bal",
          "Card_Category_Gold",
          "Customer_Age",
          "Total_Ct_Chng_Q4_Q1",
          "Total_Trans_Amt",
          "Income_Category_$80K - $120K",
          "Credit_Limit",
          "Card_Category_Silver",
          "Income_Category_$120K +",
          "Marital_Status_Married",
          "Marital_Status_Single",
          "Marital_Status_Divorced",
          "Education_Level_High School",
          "Education_Level_Uneducated",
          "Marital_Status_Unknown",
          "Education_Level_Unknown",
          "Education_Level_Doctorate",
          "Education_Level_Graduate",
          "Education_Level_Post-Graduate",
          "Gender_F",
          "Income_Category_Less than $40K",
          "Gender_M",
          "Education_Level_College"
         ],
         "yaxis": "y3"
        }
       ],
       "layout": {
        "annotations": [
         {
          "font": {},
          "showarrow": false,
          "text": "Model=GradientBoosting",
          "x": 0.15999999999999998,
          "xanchor": "center",
          "xref": "paper",
          "y": 1,
          "yanchor": "bottom",
          "yref": "paper"
         },
         {
          "font": {},
          "showarrow": false,
          "text": "Model=RandomForest",
          "x": 0.49999999999999994,
          "xanchor": "center",
          "xref": "paper",
          "y": 1,
          "yanchor": "bottom",
          "yref": "paper"
         },
         {
          "font": {},
          "showarrow": false,
          "text": "Model=DecisionTree",
          "x": 0.8399999999999999,
          "xanchor": "center",
          "xref": "paper",
          "y": 1,
          "yanchor": "bottom",
          "yref": "paper"
         }
        ],
        "barmode": "group",
        "height": 1000,
        "legend": {
         "title": {
          "text": "Method"
         },
         "tracegroupgap": 0
        },
        "template": {
         "data": {
          "bar": [
           {
            "error_x": {
             "color": "#2a3f5f"
            },
            "error_y": {
             "color": "#2a3f5f"
            },
            "marker": {
             "line": {
              "color": "#E5ECF6",
              "width": 0.5
             },
             "pattern": {
              "fillmode": "overlay",
              "size": 10,
              "solidity": 0.2
             }
            },
            "type": "bar"
           }
          ],
          "barpolar": [
           {
            "marker": {
             "line": {
              "color": "#E5ECF6",
              "width": 0.5
             },
             "pattern": {
              "fillmode": "overlay",
              "size": 10,
              "solidity": 0.2
             }
            },
            "type": "barpolar"
           }
          ],
          "carpet": [
           {
            "aaxis": {
             "endlinecolor": "#2a3f5f",
             "gridcolor": "white",
             "linecolor": "white",
             "minorgridcolor": "white",
             "startlinecolor": "#2a3f5f"
            },
            "baxis": {
             "endlinecolor": "#2a3f5f",
             "gridcolor": "white",
             "linecolor": "white",
             "minorgridcolor": "white",
             "startlinecolor": "#2a3f5f"
            },
            "type": "carpet"
           }
          ],
          "choropleth": [
           {
            "colorbar": {
             "outlinewidth": 0,
             "ticks": ""
            },
            "type": "choropleth"
           }
          ],
          "contour": [
           {
            "colorbar": {
             "outlinewidth": 0,
             "ticks": ""
            },
            "colorscale": [
             [
              0,
              "#0d0887"
             ],
             [
              0.1111111111111111,
              "#46039f"
             ],
             [
              0.2222222222222222,
              "#7201a8"
             ],
             [
              0.3333333333333333,
              "#9c179e"
             ],
             [
              0.4444444444444444,
              "#bd3786"
             ],
             [
              0.5555555555555556,
              "#d8576b"
             ],
             [
              0.6666666666666666,
              "#ed7953"
             ],
             [
              0.7777777777777778,
              "#fb9f3a"
             ],
             [
              0.8888888888888888,
              "#fdca26"
             ],
             [
              1,
              "#f0f921"
             ]
            ],
            "type": "contour"
           }
          ],
          "contourcarpet": [
           {
            "colorbar": {
             "outlinewidth": 0,
             "ticks": ""
            },
            "type": "contourcarpet"
           }
          ],
          "heatmap": [
           {
            "colorbar": {
             "outlinewidth": 0,
             "ticks": ""
            },
            "colorscale": [
             [
              0,
              "#0d0887"
             ],
             [
              0.1111111111111111,
              "#46039f"
             ],
             [
              0.2222222222222222,
              "#7201a8"
             ],
             [
              0.3333333333333333,
              "#9c179e"
             ],
             [
              0.4444444444444444,
              "#bd3786"
             ],
             [
              0.5555555555555556,
              "#d8576b"
             ],
             [
              0.6666666666666666,
              "#ed7953"
             ],
             [
              0.7777777777777778,
              "#fb9f3a"
             ],
             [
              0.8888888888888888,
              "#fdca26"
             ],
             [
              1,
              "#f0f921"
             ]
            ],
            "type": "heatmap"
           }
          ],
          "heatmapgl": [
           {
            "colorbar": {
             "outlinewidth": 0,
             "ticks": ""
            },
            "colorscale": [
             [
              0,
              "#0d0887"
             ],
             [
              0.1111111111111111,
              "#46039f"
             ],
             [
              0.2222222222222222,
              "#7201a8"
             ],
             [
              0.3333333333333333,
              "#9c179e"
             ],
             [
              0.4444444444444444,
              "#bd3786"
             ],
             [
              0.5555555555555556,
              "#d8576b"
             ],
             [
              0.6666666666666666,
              "#ed7953"
             ],
             [
              0.7777777777777778,
              "#fb9f3a"
             ],
             [
              0.8888888888888888,
              "#fdca26"
             ],
             [
              1,
              "#f0f921"
             ]
            ],
            "type": "heatmapgl"
           }
          ],
          "histogram": [
           {
            "marker": {
             "pattern": {
              "fillmode": "overlay",
              "size": 10,
              "solidity": 0.2
             }
            },
            "type": "histogram"
           }
          ],
          "histogram2d": [
           {
            "colorbar": {
             "outlinewidth": 0,
             "ticks": ""
            },
            "colorscale": [
             [
              0,
              "#0d0887"
             ],
             [
              0.1111111111111111,
              "#46039f"
             ],
             [
              0.2222222222222222,
              "#7201a8"
             ],
             [
              0.3333333333333333,
              "#9c179e"
             ],
             [
              0.4444444444444444,
              "#bd3786"
             ],
             [
              0.5555555555555556,
              "#d8576b"
             ],
             [
              0.6666666666666666,
              "#ed7953"
             ],
             [
              0.7777777777777778,
              "#fb9f3a"
             ],
             [
              0.8888888888888888,
              "#fdca26"
             ],
             [
              1,
              "#f0f921"
             ]
            ],
            "type": "histogram2d"
           }
          ],
          "histogram2dcontour": [
           {
            "colorbar": {
             "outlinewidth": 0,
             "ticks": ""
            },
            "colorscale": [
             [
              0,
              "#0d0887"
             ],
             [
              0.1111111111111111,
              "#46039f"
             ],
             [
              0.2222222222222222,
              "#7201a8"
             ],
             [
              0.3333333333333333,
              "#9c179e"
             ],
             [
              0.4444444444444444,
              "#bd3786"
             ],
             [
              0.5555555555555556,
              "#d8576b"
             ],
             [
              0.6666666666666666,
              "#ed7953"
             ],
             [
              0.7777777777777778,
              "#fb9f3a"
             ],
             [
              0.8888888888888888,
              "#fdca26"
             ],
             [
              1,
              "#f0f921"
             ]
            ],
            "type": "histogram2dcontour"
           }
          ],
          "mesh3d": [
           {
            "colorbar": {
             "outlinewidth": 0,
             "ticks": ""
            },
            "type": "mesh3d"
           }
          ],
          "parcoords": [
           {
            "line": {
             "colorbar": {
              "outlinewidth": 0,
              "ticks": ""
             }
            },
            "type": "parcoords"
           }
          ],
          "pie": [
           {
            "automargin": true,
            "type": "pie"
           }
          ],
          "scatter": [
           {
            "fillpattern": {
             "fillmode": "overlay",
             "size": 10,
             "solidity": 0.2
            },
            "type": "scatter"
           }
          ],
          "scatter3d": [
           {
            "line": {
             "colorbar": {
              "outlinewidth": 0,
              "ticks": ""
             }
            },
            "marker": {
             "colorbar": {
              "outlinewidth": 0,
              "ticks": ""
             }
            },
            "type": "scatter3d"
           }
          ],
          "scattercarpet": [
           {
            "marker": {
             "colorbar": {
              "outlinewidth": 0,
              "ticks": ""
             }
            },
            "type": "scattercarpet"
           }
          ],
          "scattergeo": [
           {
            "marker": {
             "colorbar": {
              "outlinewidth": 0,
              "ticks": ""
             }
            },
            "type": "scattergeo"
           }
          ],
          "scattergl": [
           {
            "marker": {
             "colorbar": {
              "outlinewidth": 0,
              "ticks": ""
             }
            },
            "type": "scattergl"
           }
          ],
          "scattermapbox": [
           {
            "marker": {
             "colorbar": {
              "outlinewidth": 0,
              "ticks": ""
             }
            },
            "type": "scattermapbox"
           }
          ],
          "scatterpolar": [
           {
            "marker": {
             "colorbar": {
              "outlinewidth": 0,
              "ticks": ""
             }
            },
            "type": "scatterpolar"
           }
          ],
          "scatterpolargl": [
           {
            "marker": {
             "colorbar": {
              "outlinewidth": 0,
              "ticks": ""
             }
            },
            "type": "scatterpolargl"
           }
          ],
          "scatterternary": [
           {
            "marker": {
             "colorbar": {
              "outlinewidth": 0,
              "ticks": ""
             }
            },
            "type": "scatterternary"
           }
          ],
          "surface": [
           {
            "colorbar": {
             "outlinewidth": 0,
             "ticks": ""
            },
            "colorscale": [
             [
              0,
              "#0d0887"
             ],
             [
              0.1111111111111111,
              "#46039f"
             ],
             [
              0.2222222222222222,
              "#7201a8"
             ],
             [
              0.3333333333333333,
              "#9c179e"
             ],
             [
              0.4444444444444444,
              "#bd3786"
             ],
             [
              0.5555555555555556,
              "#d8576b"
             ],
             [
              0.6666666666666666,
              "#ed7953"
             ],
             [
              0.7777777777777778,
              "#fb9f3a"
             ],
             [
              0.8888888888888888,
              "#fdca26"
             ],
             [
              1,
              "#f0f921"
             ]
            ],
            "type": "surface"
           }
          ],
          "table": [
           {
            "cells": {
             "fill": {
              "color": "#EBF0F8"
             },
             "line": {
              "color": "white"
             }
            },
            "header": {
             "fill": {
              "color": "#C8D4E3"
             },
             "line": {
              "color": "white"
             }
            },
            "type": "table"
           }
          ]
         },
         "layout": {
          "annotationdefaults": {
           "arrowcolor": "#2a3f5f",
           "arrowhead": 0,
           "arrowwidth": 1
          },
          "autotypenumbers": "strict",
          "coloraxis": {
           "colorbar": {
            "outlinewidth": 0,
            "ticks": ""
           }
          },
          "colorscale": {
           "diverging": [
            [
             0,
             "#8e0152"
            ],
            [
             0.1,
             "#c51b7d"
            ],
            [
             0.2,
             "#de77ae"
            ],
            [
             0.3,
             "#f1b6da"
            ],
            [
             0.4,
             "#fde0ef"
            ],
            [
             0.5,
             "#f7f7f7"
            ],
            [
             0.6,
             "#e6f5d0"
            ],
            [
             0.7,
             "#b8e186"
            ],
            [
             0.8,
             "#7fbc41"
            ],
            [
             0.9,
             "#4d9221"
            ],
            [
             1,
             "#276419"
            ]
           ],
           "sequential": [
            [
             0,
             "#0d0887"
            ],
            [
             0.1111111111111111,
             "#46039f"
            ],
            [
             0.2222222222222222,
             "#7201a8"
            ],
            [
             0.3333333333333333,
             "#9c179e"
            ],
            [
             0.4444444444444444,
             "#bd3786"
            ],
            [
             0.5555555555555556,
             "#d8576b"
            ],
            [
             0.6666666666666666,
             "#ed7953"
            ],
            [
             0.7777777777777778,
             "#fb9f3a"
            ],
            [
             0.8888888888888888,
             "#fdca26"
            ],
            [
             1,
             "#f0f921"
            ]
           ],
           "sequentialminus": [
            [
             0,
             "#0d0887"
            ],
            [
             0.1111111111111111,
             "#46039f"
            ],
            [
             0.2222222222222222,
             "#7201a8"
            ],
            [
             0.3333333333333333,
             "#9c179e"
            ],
            [
             0.4444444444444444,
             "#bd3786"
            ],
            [
             0.5555555555555556,
             "#d8576b"
            ],
            [
             0.6666666666666666,
             "#ed7953"
            ],
            [
             0.7777777777777778,
             "#fb9f3a"
            ],
            [
             0.8888888888888888,
             "#fdca26"
            ],
            [
             1,
             "#f0f921"
            ]
           ]
          },
          "colorway": [
           "#636efa",
           "#EF553B",
           "#00cc96",
           "#ab63fa",
           "#FFA15A",
           "#19d3f3",
           "#FF6692",
           "#B6E880",
           "#FF97FF",
           "#FECB52"
          ],
          "font": {
           "color": "#2a3f5f"
          },
          "geo": {
           "bgcolor": "white",
           "lakecolor": "white",
           "landcolor": "#E5ECF6",
           "showlakes": true,
           "showland": true,
           "subunitcolor": "white"
          },
          "hoverlabel": {
           "align": "left"
          },
          "hovermode": "closest",
          "mapbox": {
           "style": "light"
          },
          "paper_bgcolor": "white",
          "plot_bgcolor": "#E5ECF6",
          "polar": {
           "angularaxis": {
            "gridcolor": "white",
            "linecolor": "white",
            "ticks": ""
           },
           "bgcolor": "#E5ECF6",
           "radialaxis": {
            "gridcolor": "white",
            "linecolor": "white",
            "ticks": ""
           }
          },
          "scene": {
           "xaxis": {
            "backgroundcolor": "#E5ECF6",
            "gridcolor": "white",
            "gridwidth": 2,
            "linecolor": "white",
            "showbackground": true,
            "ticks": "",
            "zerolinecolor": "white"
           },
           "yaxis": {
            "backgroundcolor": "#E5ECF6",
            "gridcolor": "white",
            "gridwidth": 2,
            "linecolor": "white",
            "showbackground": true,
            "ticks": "",
            "zerolinecolor": "white"
           },
           "zaxis": {
            "backgroundcolor": "#E5ECF6",
            "gridcolor": "white",
            "gridwidth": 2,
            "linecolor": "white",
            "showbackground": true,
            "ticks": "",
            "zerolinecolor": "white"
           }
          },
          "shapedefaults": {
           "line": {
            "color": "#2a3f5f"
           }
          },
          "ternary": {
           "aaxis": {
            "gridcolor": "white",
            "linecolor": "white",
            "ticks": ""
           },
           "baxis": {
            "gridcolor": "white",
            "linecolor": "white",
            "ticks": ""
           },
           "bgcolor": "#E5ECF6",
           "caxis": {
            "gridcolor": "white",
            "linecolor": "white",
            "ticks": ""
           }
          },
          "title": {
           "x": 0.05
          },
          "xaxis": {
           "automargin": true,
           "gridcolor": "white",
           "linecolor": "white",
           "ticks": "",
           "title": {
            "standoff": 15
           },
           "zerolinecolor": "white",
           "zerolinewidth": 2
          },
          "yaxis": {
           "automargin": true,
           "gridcolor": "white",
           "linecolor": "white",
           "ticks": "",
           "title": {
            "standoff": 15
           },
           "zerolinecolor": "white",
           "zerolinewidth": 2
          }
         }
        },
        "title": {
         "text": "Feature Importance je Modell und XML-Methode"
        },
        "xaxis": {
         "anchor": "y",
         "domain": [
          0,
          0.31999999999999995
         ],
         "title": {
          "text": "Feature Importance"
         }
        },
        "xaxis2": {
         "anchor": "y2",
         "domain": [
          0.33999999999999997,
          0.6599999999999999
         ],
         "matches": "x",
         "title": {
          "text": "Feature Importance"
         }
        },
        "xaxis3": {
         "anchor": "y3",
         "domain": [
          0.6799999999999999,
          0.9999999999999999
         ],
         "matches": "x",
         "title": {
          "text": "Feature Importance"
         }
        },
        "yaxis": {
         "anchor": "x",
         "domain": [
          0,
          1
         ],
         "title": {
          "text": "Feature"
         }
        },
        "yaxis2": {
         "anchor": "x2",
         "domain": [
          0,
          1
         ],
         "matches": "y",
         "showticklabels": false
        },
        "yaxis3": {
         "anchor": "x3",
         "domain": [
          0,
          1
         ],
         "matches": "y",
         "showticklabels": false
        }
       }
      }
     },
     "metadata": {},
     "output_type": "display_data"
    }
   ],
   "source": [
    "# Säulendiagramm mit 3 Facetten erstellen\n",
    "fig = px.bar(result_df.sort_values(by='Feature Importance', ascending=True),\n",
    "                y='Feature', \n",
    "                x='Feature Importance', \n",
    "                color='Method', \n",
    "                barmode='group',\n",
    "                facet_col='Model', \n",
    "                title=\"Feature Importance je Modell und XML-Methode\",\n",
    "                height=1000,)\n",
    "fig.show()\n",
    "\n",
    "# Abspeichern der Grafik\n",
    "fig.write_html(\"Images/model_comparison.html\")"
   ]
  }
 ],
 "metadata": {
  "kernelspec": {
   "display_name": "base",
   "language": "python",
   "name": "python3"
  },
  "language_info": {
   "codemirror_mode": {
    "name": "ipython",
    "version": 3
   },
   "file_extension": ".py",
   "mimetype": "text/x-python",
   "name": "python",
   "nbconvert_exporter": "python",
   "pygments_lexer": "ipython3",
   "version": "3.10.13"
  }
 },
 "nbformat": 4,
 "nbformat_minor": 2
}
